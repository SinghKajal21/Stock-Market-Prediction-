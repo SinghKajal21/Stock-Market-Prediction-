{
  "nbformat": 4,
  "nbformat_minor": 0,
  "metadata": {
    "colab": {
      "name": "STOCK MARKET PREDICTION PROJECT.ipynb",
      "provenance": [],
      "authorship_tag": "ABX9TyP5UrAMZgDEeUpBi3G83a5A",
      "include_colab_link": true
    },
    "kernelspec": {
      "name": "python3",
      "display_name": "Python 3"
    },
    "language_info": {
      "name": "python"
    }
  },
  "cells": [
    {
      "cell_type": "markdown",
      "metadata": {
        "id": "view-in-github",
        "colab_type": "text"
      },
      "source": [
        "<a href=\"https://colab.research.google.com/github/SinghKajal21/Stock-Market-Prediction-/blob/main/STOCK_MARKET_PREDICTION_PROJECT.ipynb\" target=\"_parent\"><img src=\"https://colab.research.google.com/assets/colab-badge.svg\" alt=\"Open In Colab\"/></a>"
      ]
    },
    {
      "cell_type": "code",
      "execution_count": null,
      "metadata": {
        "id": "2-DY5lMqHDrc"
      },
      "outputs": [],
      "source": [
        "import pandas_datareader as pdr\n",
        "import numpy as np\n",
        "import matplotlib.pyplot as plt\n",
        "%matplotlib inline"
      ]
    },
    {
      "cell_type": "code",
      "source": [
        "from google.colab import files\n",
        "uploaded = files.upload()"
      ],
      "metadata": {
        "colab": {
          "resources": {
            "http://localhost:8080/nbextensions/google.colab/files.js": {
              "data": "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",
              "ok": true,
              "headers": [
                [
                  "content-type",
                  "application/javascript"
                ]
              ],
              "status": 200,
              "status_text": ""
            }
          },
          "base_uri": "https://localhost:8080/",
          "height": 74
        },
        "id": "LmWXmicwJtSc",
        "outputId": "d9187823-b915-4255-8dcf-ac76149152ca"
      },
      "execution_count": null,
      "outputs": [
        {
          "output_type": "display_data",
          "data": {
            "text/html": [
              "\n",
              "     <input type=\"file\" id=\"files-84150a88-605b-4fe4-87c2-7429646a9345\" name=\"files[]\" multiple disabled\n",
              "        style=\"border:none\" />\n",
              "     <output id=\"result-84150a88-605b-4fe4-87c2-7429646a9345\">\n",
              "      Upload widget is only available when the cell has been executed in the\n",
              "      current browser session. Please rerun this cell to enable.\n",
              "      </output>\n",
              "      <script src=\"/nbextensions/google.colab/files.js\"></script> "
            ],
            "text/plain": [
              "<IPython.core.display.HTML object>"
            ]
          },
          "metadata": {}
        },
        {
          "output_type": "stream",
          "name": "stdout",
          "text": [
            "Saving BPCL (2).csv to BPCL (2).csv\n"
          ]
        }
      ]
    },
    {
      "cell_type": "code",
      "source": [
        "BPCL = pd.read_csv('BPCL (2).csv')\n",
        "pd.read_csv('BPCL (2).csv')\n",
        "\n"
      ],
      "metadata": {
        "colab": {
          "base_uri": "https://localhost:8080/",
          "height": 423
        },
        "id": "ECsN-XpmJ-F7",
        "outputId": "b79e25d8-854f-4878-b5a4-fc102a2addf8"
      },
      "execution_count": null,
      "outputs": [
        {
          "output_type": "execute_result",
          "data": {
            "text/html": [
              "\n",
              "  <div id=\"df-e9bf7fb3-08dd-4abd-807c-59b3a2c87c9b\">\n",
              "    <div class=\"colab-df-container\">\n",
              "      <div>\n",
              "<style scoped>\n",
              "    .dataframe tbody tr th:only-of-type {\n",
              "        vertical-align: middle;\n",
              "    }\n",
              "\n",
              "    .dataframe tbody tr th {\n",
              "        vertical-align: top;\n",
              "    }\n",
              "\n",
              "    .dataframe thead th {\n",
              "        text-align: right;\n",
              "    }\n",
              "</style>\n",
              "<table border=\"1\" class=\"dataframe\">\n",
              "  <thead>\n",
              "    <tr style=\"text-align: right;\">\n",
              "      <th></th>\n",
              "      <th>Date</th>\n",
              "      <th>Symbol</th>\n",
              "      <th>Series</th>\n",
              "      <th>Prev Close</th>\n",
              "      <th>Open</th>\n",
              "      <th>High</th>\n",
              "      <th>Low</th>\n",
              "      <th>Last</th>\n",
              "      <th>Close</th>\n",
              "      <th>VWAP</th>\n",
              "      <th>Volume</th>\n",
              "    </tr>\n",
              "  </thead>\n",
              "  <tbody>\n",
              "    <tr>\n",
              "      <th>0</th>\n",
              "      <td>03-01-2000</td>\n",
              "      <td>BPCL</td>\n",
              "      <td>EQ</td>\n",
              "      <td>381.20</td>\n",
              "      <td>405.00</td>\n",
              "      <td>407.00</td>\n",
              "      <td>393.05</td>\n",
              "      <td>397.75</td>\n",
              "      <td>399.25</td>\n",
              "      <td>399.32</td>\n",
              "      <td>8720</td>\n",
              "    </tr>\n",
              "    <tr>\n",
              "      <th>1</th>\n",
              "      <td>04-01-2000</td>\n",
              "      <td>BPCL</td>\n",
              "      <td>EQ</td>\n",
              "      <td>399.25</td>\n",
              "      <td>397.75</td>\n",
              "      <td>397.75</td>\n",
              "      <td>367.40</td>\n",
              "      <td>377.45</td>\n",
              "      <td>370.50</td>\n",
              "      <td>375.71</td>\n",
              "      <td>22820</td>\n",
              "    </tr>\n",
              "    <tr>\n",
              "      <th>2</th>\n",
              "      <td>05-01-2000</td>\n",
              "      <td>BPCL</td>\n",
              "      <td>EQ</td>\n",
              "      <td>370.50</td>\n",
              "      <td>350.00</td>\n",
              "      <td>385.00</td>\n",
              "      <td>350.00</td>\n",
              "      <td>360.10</td>\n",
              "      <td>359.95</td>\n",
              "      <td>359.96</td>\n",
              "      <td>152538</td>\n",
              "    </tr>\n",
              "    <tr>\n",
              "      <th>3</th>\n",
              "      <td>06-01-2000</td>\n",
              "      <td>BPCL</td>\n",
              "      <td>EQ</td>\n",
              "      <td>359.95</td>\n",
              "      <td>362.00</td>\n",
              "      <td>384.00</td>\n",
              "      <td>362.00</td>\n",
              "      <td>381.65</td>\n",
              "      <td>380.30</td>\n",
              "      <td>380.10</td>\n",
              "      <td>59554</td>\n",
              "    </tr>\n",
              "    <tr>\n",
              "      <th>4</th>\n",
              "      <td>07-01-2000</td>\n",
              "      <td>BPCL</td>\n",
              "      <td>EQ</td>\n",
              "      <td>380.30</td>\n",
              "      <td>369.00</td>\n",
              "      <td>390.00</td>\n",
              "      <td>366.00</td>\n",
              "      <td>381.50</td>\n",
              "      <td>379.85</td>\n",
              "      <td>378.33</td>\n",
              "      <td>43187</td>\n",
              "    </tr>\n",
              "    <tr>\n",
              "      <th>...</th>\n",
              "      <td>...</td>\n",
              "      <td>...</td>\n",
              "      <td>...</td>\n",
              "      <td>...</td>\n",
              "      <td>...</td>\n",
              "      <td>...</td>\n",
              "      <td>...</td>\n",
              "      <td>...</td>\n",
              "      <td>...</td>\n",
              "      <td>...</td>\n",
              "      <td>...</td>\n",
              "    </tr>\n",
              "    <tr>\n",
              "      <th>5301</th>\n",
              "      <td>26-04-2021</td>\n",
              "      <td>BPCL</td>\n",
              "      <td>EQ</td>\n",
              "      <td>423.05</td>\n",
              "      <td>426.00</td>\n",
              "      <td>428.35</td>\n",
              "      <td>417.55</td>\n",
              "      <td>417.60</td>\n",
              "      <td>418.90</td>\n",
              "      <td>421.33</td>\n",
              "      <td>6444098</td>\n",
              "    </tr>\n",
              "    <tr>\n",
              "      <th>5302</th>\n",
              "      <td>27-04-2021</td>\n",
              "      <td>BPCL</td>\n",
              "      <td>EQ</td>\n",
              "      <td>418.90</td>\n",
              "      <td>417.50</td>\n",
              "      <td>423.10</td>\n",
              "      <td>416.55</td>\n",
              "      <td>420.00</td>\n",
              "      <td>420.35</td>\n",
              "      <td>420.45</td>\n",
              "      <td>5408165</td>\n",
              "    </tr>\n",
              "    <tr>\n",
              "      <th>5303</th>\n",
              "      <td>28-04-2021</td>\n",
              "      <td>BPCL</td>\n",
              "      <td>EQ</td>\n",
              "      <td>420.35</td>\n",
              "      <td>422.00</td>\n",
              "      <td>424.35</td>\n",
              "      <td>414.90</td>\n",
              "      <td>417.15</td>\n",
              "      <td>417.50</td>\n",
              "      <td>419.33</td>\n",
              "      <td>9902533</td>\n",
              "    </tr>\n",
              "    <tr>\n",
              "      <th>5304</th>\n",
              "      <td>29-04-2021</td>\n",
              "      <td>BPCL</td>\n",
              "      <td>EQ</td>\n",
              "      <td>417.50</td>\n",
              "      <td>422.00</td>\n",
              "      <td>423.00</td>\n",
              "      <td>417.00</td>\n",
              "      <td>419.00</td>\n",
              "      <td>419.55</td>\n",
              "      <td>420.00</td>\n",
              "      <td>6632804</td>\n",
              "    </tr>\n",
              "    <tr>\n",
              "      <th>5305</th>\n",
              "      <td>30-04-2021</td>\n",
              "      <td>BPCL</td>\n",
              "      <td>EQ</td>\n",
              "      <td>419.55</td>\n",
              "      <td>417.50</td>\n",
              "      <td>437.50</td>\n",
              "      <td>414.65</td>\n",
              "      <td>422.10</td>\n",
              "      <td>421.80</td>\n",
              "      <td>428.14</td>\n",
              "      <td>16851470</td>\n",
              "    </tr>\n",
              "  </tbody>\n",
              "</table>\n",
              "<p>5306 rows × 11 columns</p>\n",
              "</div>\n",
              "      <button class=\"colab-df-convert\" onclick=\"convertToInteractive('df-e9bf7fb3-08dd-4abd-807c-59b3a2c87c9b')\"\n",
              "              title=\"Convert this dataframe to an interactive table.\"\n",
              "              style=\"display:none;\">\n",
              "        \n",
              "  <svg xmlns=\"http://www.w3.org/2000/svg\" height=\"24px\"viewBox=\"0 0 24 24\"\n",
              "       width=\"24px\">\n",
              "    <path d=\"M0 0h24v24H0V0z\" fill=\"none\"/>\n",
              "    <path d=\"M18.56 5.44l.94 2.06.94-2.06 2.06-.94-2.06-.94-.94-2.06-.94 2.06-2.06.94zm-11 1L8.5 8.5l.94-2.06 2.06-.94-2.06-.94L8.5 2.5l-.94 2.06-2.06.94zm10 10l.94 2.06.94-2.06 2.06-.94-2.06-.94-.94-2.06-.94 2.06-2.06.94z\"/><path d=\"M17.41 7.96l-1.37-1.37c-.4-.4-.92-.59-1.43-.59-.52 0-1.04.2-1.43.59L10.3 9.45l-7.72 7.72c-.78.78-.78 2.05 0 2.83L4 21.41c.39.39.9.59 1.41.59.51 0 1.02-.2 1.41-.59l7.78-7.78 2.81-2.81c.8-.78.8-2.07 0-2.86zM5.41 20L4 18.59l7.72-7.72 1.47 1.35L5.41 20z\"/>\n",
              "  </svg>\n",
              "      </button>\n",
              "      \n",
              "  <style>\n",
              "    .colab-df-container {\n",
              "      display:flex;\n",
              "      flex-wrap:wrap;\n",
              "      gap: 12px;\n",
              "    }\n",
              "\n",
              "    .colab-df-convert {\n",
              "      background-color: #E8F0FE;\n",
              "      border: none;\n",
              "      border-radius: 50%;\n",
              "      cursor: pointer;\n",
              "      display: none;\n",
              "      fill: #1967D2;\n",
              "      height: 32px;\n",
              "      padding: 0 0 0 0;\n",
              "      width: 32px;\n",
              "    }\n",
              "\n",
              "    .colab-df-convert:hover {\n",
              "      background-color: #E2EBFA;\n",
              "      box-shadow: 0px 1px 2px rgba(60, 64, 67, 0.3), 0px 1px 3px 1px rgba(60, 64, 67, 0.15);\n",
              "      fill: #174EA6;\n",
              "    }\n",
              "\n",
              "    [theme=dark] .colab-df-convert {\n",
              "      background-color: #3B4455;\n",
              "      fill: #D2E3FC;\n",
              "    }\n",
              "\n",
              "    [theme=dark] .colab-df-convert:hover {\n",
              "      background-color: #434B5C;\n",
              "      box-shadow: 0px 1px 3px 1px rgba(0, 0, 0, 0.15);\n",
              "      filter: drop-shadow(0px 1px 2px rgba(0, 0, 0, 0.3));\n",
              "      fill: #FFFFFF;\n",
              "    }\n",
              "  </style>\n",
              "\n",
              "      <script>\n",
              "        const buttonEl =\n",
              "          document.querySelector('#df-e9bf7fb3-08dd-4abd-807c-59b3a2c87c9b button.colab-df-convert');\n",
              "        buttonEl.style.display =\n",
              "          google.colab.kernel.accessAllowed ? 'block' : 'none';\n",
              "\n",
              "        async function convertToInteractive(key) {\n",
              "          const element = document.querySelector('#df-e9bf7fb3-08dd-4abd-807c-59b3a2c87c9b');\n",
              "          const dataTable =\n",
              "            await google.colab.kernel.invokeFunction('convertToInteractive',\n",
              "                                                     [key], {});\n",
              "          if (!dataTable) return;\n",
              "\n",
              "          const docLinkHtml = 'Like what you see? Visit the ' +\n",
              "            '<a target=\"_blank\" href=https://colab.research.google.com/notebooks/data_table.ipynb>data table notebook</a>'\n",
              "            + ' to learn more about interactive tables.';\n",
              "          element.innerHTML = '';\n",
              "          dataTable['output_type'] = 'display_data';\n",
              "          await google.colab.output.renderOutput(dataTable, element);\n",
              "          const docLink = document.createElement('div');\n",
              "          docLink.innerHTML = docLinkHtml;\n",
              "          element.appendChild(docLink);\n",
              "        }\n",
              "      </script>\n",
              "    </div>\n",
              "  </div>\n",
              "  "
            ],
            "text/plain": [
              "            Date Symbol Series  Prev Close  ...    Last   Close    VWAP    Volume\n",
              "0     03-01-2000   BPCL     EQ      381.20  ...  397.75  399.25  399.32      8720\n",
              "1     04-01-2000   BPCL     EQ      399.25  ...  377.45  370.50  375.71     22820\n",
              "2     05-01-2000   BPCL     EQ      370.50  ...  360.10  359.95  359.96    152538\n",
              "3     06-01-2000   BPCL     EQ      359.95  ...  381.65  380.30  380.10     59554\n",
              "4     07-01-2000   BPCL     EQ      380.30  ...  381.50  379.85  378.33     43187\n",
              "...          ...    ...    ...         ...  ...     ...     ...     ...       ...\n",
              "5301  26-04-2021   BPCL     EQ      423.05  ...  417.60  418.90  421.33   6444098\n",
              "5302  27-04-2021   BPCL     EQ      418.90  ...  420.00  420.35  420.45   5408165\n",
              "5303  28-04-2021   BPCL     EQ      420.35  ...  417.15  417.50  419.33   9902533\n",
              "5304  29-04-2021   BPCL     EQ      417.50  ...  419.00  419.55  420.00   6632804\n",
              "5305  30-04-2021   BPCL     EQ      419.55  ...  422.10  421.80  428.14  16851470\n",
              "\n",
              "[5306 rows x 11 columns]"
            ]
          },
          "metadata": {},
          "execution_count": 4
        }
      ]
    },
    {
      "cell_type": "code",
      "source": [
        "BPCL.head()"
      ],
      "metadata": {
        "colab": {
          "base_uri": "https://localhost:8080/",
          "height": 206
        },
        "id": "4jlukruTKATU",
        "outputId": "8b658b87-9273-4980-9b28-accd2416b3c0"
      },
      "execution_count": null,
      "outputs": [
        {
          "output_type": "execute_result",
          "data": {
            "text/html": [
              "\n",
              "  <div id=\"df-965fe6e8-d8b4-46d8-9154-f56a37a2e0e0\">\n",
              "    <div class=\"colab-df-container\">\n",
              "      <div>\n",
              "<style scoped>\n",
              "    .dataframe tbody tr th:only-of-type {\n",
              "        vertical-align: middle;\n",
              "    }\n",
              "\n",
              "    .dataframe tbody tr th {\n",
              "        vertical-align: top;\n",
              "    }\n",
              "\n",
              "    .dataframe thead th {\n",
              "        text-align: right;\n",
              "    }\n",
              "</style>\n",
              "<table border=\"1\" class=\"dataframe\">\n",
              "  <thead>\n",
              "    <tr style=\"text-align: right;\">\n",
              "      <th></th>\n",
              "      <th>Date</th>\n",
              "      <th>Symbol</th>\n",
              "      <th>Series</th>\n",
              "      <th>Prev Close</th>\n",
              "      <th>Open</th>\n",
              "      <th>High</th>\n",
              "      <th>Low</th>\n",
              "      <th>Last</th>\n",
              "      <th>Close</th>\n",
              "      <th>VWAP</th>\n",
              "      <th>Volume</th>\n",
              "    </tr>\n",
              "  </thead>\n",
              "  <tbody>\n",
              "    <tr>\n",
              "      <th>0</th>\n",
              "      <td>03-01-2000</td>\n",
              "      <td>BPCL</td>\n",
              "      <td>EQ</td>\n",
              "      <td>381.20</td>\n",
              "      <td>405.00</td>\n",
              "      <td>407.00</td>\n",
              "      <td>393.05</td>\n",
              "      <td>397.75</td>\n",
              "      <td>399.25</td>\n",
              "      <td>399.32</td>\n",
              "      <td>8720</td>\n",
              "    </tr>\n",
              "    <tr>\n",
              "      <th>1</th>\n",
              "      <td>04-01-2000</td>\n",
              "      <td>BPCL</td>\n",
              "      <td>EQ</td>\n",
              "      <td>399.25</td>\n",
              "      <td>397.75</td>\n",
              "      <td>397.75</td>\n",
              "      <td>367.40</td>\n",
              "      <td>377.45</td>\n",
              "      <td>370.50</td>\n",
              "      <td>375.71</td>\n",
              "      <td>22820</td>\n",
              "    </tr>\n",
              "    <tr>\n",
              "      <th>2</th>\n",
              "      <td>05-01-2000</td>\n",
              "      <td>BPCL</td>\n",
              "      <td>EQ</td>\n",
              "      <td>370.50</td>\n",
              "      <td>350.00</td>\n",
              "      <td>385.00</td>\n",
              "      <td>350.00</td>\n",
              "      <td>360.10</td>\n",
              "      <td>359.95</td>\n",
              "      <td>359.96</td>\n",
              "      <td>152538</td>\n",
              "    </tr>\n",
              "    <tr>\n",
              "      <th>3</th>\n",
              "      <td>06-01-2000</td>\n",
              "      <td>BPCL</td>\n",
              "      <td>EQ</td>\n",
              "      <td>359.95</td>\n",
              "      <td>362.00</td>\n",
              "      <td>384.00</td>\n",
              "      <td>362.00</td>\n",
              "      <td>381.65</td>\n",
              "      <td>380.30</td>\n",
              "      <td>380.10</td>\n",
              "      <td>59554</td>\n",
              "    </tr>\n",
              "    <tr>\n",
              "      <th>4</th>\n",
              "      <td>07-01-2000</td>\n",
              "      <td>BPCL</td>\n",
              "      <td>EQ</td>\n",
              "      <td>380.30</td>\n",
              "      <td>369.00</td>\n",
              "      <td>390.00</td>\n",
              "      <td>366.00</td>\n",
              "      <td>381.50</td>\n",
              "      <td>379.85</td>\n",
              "      <td>378.33</td>\n",
              "      <td>43187</td>\n",
              "    </tr>\n",
              "  </tbody>\n",
              "</table>\n",
              "</div>\n",
              "      <button class=\"colab-df-convert\" onclick=\"convertToInteractive('df-965fe6e8-d8b4-46d8-9154-f56a37a2e0e0')\"\n",
              "              title=\"Convert this dataframe to an interactive table.\"\n",
              "              style=\"display:none;\">\n",
              "        \n",
              "  <svg xmlns=\"http://www.w3.org/2000/svg\" height=\"24px\"viewBox=\"0 0 24 24\"\n",
              "       width=\"24px\">\n",
              "    <path d=\"M0 0h24v24H0V0z\" fill=\"none\"/>\n",
              "    <path d=\"M18.56 5.44l.94 2.06.94-2.06 2.06-.94-2.06-.94-.94-2.06-.94 2.06-2.06.94zm-11 1L8.5 8.5l.94-2.06 2.06-.94-2.06-.94L8.5 2.5l-.94 2.06-2.06.94zm10 10l.94 2.06.94-2.06 2.06-.94-2.06-.94-.94-2.06-.94 2.06-2.06.94z\"/><path d=\"M17.41 7.96l-1.37-1.37c-.4-.4-.92-.59-1.43-.59-.52 0-1.04.2-1.43.59L10.3 9.45l-7.72 7.72c-.78.78-.78 2.05 0 2.83L4 21.41c.39.39.9.59 1.41.59.51 0 1.02-.2 1.41-.59l7.78-7.78 2.81-2.81c.8-.78.8-2.07 0-2.86zM5.41 20L4 18.59l7.72-7.72 1.47 1.35L5.41 20z\"/>\n",
              "  </svg>\n",
              "      </button>\n",
              "      \n",
              "  <style>\n",
              "    .colab-df-container {\n",
              "      display:flex;\n",
              "      flex-wrap:wrap;\n",
              "      gap: 12px;\n",
              "    }\n",
              "\n",
              "    .colab-df-convert {\n",
              "      background-color: #E8F0FE;\n",
              "      border: none;\n",
              "      border-radius: 50%;\n",
              "      cursor: pointer;\n",
              "      display: none;\n",
              "      fill: #1967D2;\n",
              "      height: 32px;\n",
              "      padding: 0 0 0 0;\n",
              "      width: 32px;\n",
              "    }\n",
              "\n",
              "    .colab-df-convert:hover {\n",
              "      background-color: #E2EBFA;\n",
              "      box-shadow: 0px 1px 2px rgba(60, 64, 67, 0.3), 0px 1px 3px 1px rgba(60, 64, 67, 0.15);\n",
              "      fill: #174EA6;\n",
              "    }\n",
              "\n",
              "    [theme=dark] .colab-df-convert {\n",
              "      background-color: #3B4455;\n",
              "      fill: #D2E3FC;\n",
              "    }\n",
              "\n",
              "    [theme=dark] .colab-df-convert:hover {\n",
              "      background-color: #434B5C;\n",
              "      box-shadow: 0px 1px 3px 1px rgba(0, 0, 0, 0.15);\n",
              "      filter: drop-shadow(0px 1px 2px rgba(0, 0, 0, 0.3));\n",
              "      fill: #FFFFFF;\n",
              "    }\n",
              "  </style>\n",
              "\n",
              "      <script>\n",
              "        const buttonEl =\n",
              "          document.querySelector('#df-965fe6e8-d8b4-46d8-9154-f56a37a2e0e0 button.colab-df-convert');\n",
              "        buttonEl.style.display =\n",
              "          google.colab.kernel.accessAllowed ? 'block' : 'none';\n",
              "\n",
              "        async function convertToInteractive(key) {\n",
              "          const element = document.querySelector('#df-965fe6e8-d8b4-46d8-9154-f56a37a2e0e0');\n",
              "          const dataTable =\n",
              "            await google.colab.kernel.invokeFunction('convertToInteractive',\n",
              "                                                     [key], {});\n",
              "          if (!dataTable) return;\n",
              "\n",
              "          const docLinkHtml = 'Like what you see? Visit the ' +\n",
              "            '<a target=\"_blank\" href=https://colab.research.google.com/notebooks/data_table.ipynb>data table notebook</a>'\n",
              "            + ' to learn more about interactive tables.';\n",
              "          element.innerHTML = '';\n",
              "          dataTable['output_type'] = 'display_data';\n",
              "          await google.colab.output.renderOutput(dataTable, element);\n",
              "          const docLink = document.createElement('div');\n",
              "          docLink.innerHTML = docLinkHtml;\n",
              "          element.appendChild(docLink);\n",
              "        }\n",
              "      </script>\n",
              "    </div>\n",
              "  </div>\n",
              "  "
            ],
            "text/plain": [
              "         Date Symbol Series  Prev Close  ...    Last   Close    VWAP  Volume\n",
              "0  03-01-2000   BPCL     EQ      381.20  ...  397.75  399.25  399.32    8720\n",
              "1  04-01-2000   BPCL     EQ      399.25  ...  377.45  370.50  375.71   22820\n",
              "2  05-01-2000   BPCL     EQ      370.50  ...  360.10  359.95  359.96  152538\n",
              "3  06-01-2000   BPCL     EQ      359.95  ...  381.65  380.30  380.10   59554\n",
              "4  07-01-2000   BPCL     EQ      380.30  ...  381.50  379.85  378.33   43187\n",
              "\n",
              "[5 rows x 11 columns]"
            ]
          },
          "metadata": {},
          "execution_count": 5
        }
      ]
    },
    {
      "cell_type": "code",
      "source": [
        "BPCL.tail()"
      ],
      "metadata": {
        "colab": {
          "base_uri": "https://localhost:8080/",
          "height": 206
        },
        "id": "kbeM4zdfKR_p",
        "outputId": "7e11cd51-e534-4900-a09c-bd57ebd61565"
      },
      "execution_count": null,
      "outputs": [
        {
          "output_type": "execute_result",
          "data": {
            "text/html": [
              "\n",
              "  <div id=\"df-ff0e895e-c36b-4284-a2cf-2d5813886e97\">\n",
              "    <div class=\"colab-df-container\">\n",
              "      <div>\n",
              "<style scoped>\n",
              "    .dataframe tbody tr th:only-of-type {\n",
              "        vertical-align: middle;\n",
              "    }\n",
              "\n",
              "    .dataframe tbody tr th {\n",
              "        vertical-align: top;\n",
              "    }\n",
              "\n",
              "    .dataframe thead th {\n",
              "        text-align: right;\n",
              "    }\n",
              "</style>\n",
              "<table border=\"1\" class=\"dataframe\">\n",
              "  <thead>\n",
              "    <tr style=\"text-align: right;\">\n",
              "      <th></th>\n",
              "      <th>Date</th>\n",
              "      <th>Symbol</th>\n",
              "      <th>Series</th>\n",
              "      <th>Prev Close</th>\n",
              "      <th>Open</th>\n",
              "      <th>High</th>\n",
              "      <th>Low</th>\n",
              "      <th>Last</th>\n",
              "      <th>Close</th>\n",
              "      <th>VWAP</th>\n",
              "      <th>Volume</th>\n",
              "    </tr>\n",
              "  </thead>\n",
              "  <tbody>\n",
              "    <tr>\n",
              "      <th>5301</th>\n",
              "      <td>26-04-2021</td>\n",
              "      <td>BPCL</td>\n",
              "      <td>EQ</td>\n",
              "      <td>423.05</td>\n",
              "      <td>426.0</td>\n",
              "      <td>428.35</td>\n",
              "      <td>417.55</td>\n",
              "      <td>417.60</td>\n",
              "      <td>418.90</td>\n",
              "      <td>421.33</td>\n",
              "      <td>6444098</td>\n",
              "    </tr>\n",
              "    <tr>\n",
              "      <th>5302</th>\n",
              "      <td>27-04-2021</td>\n",
              "      <td>BPCL</td>\n",
              "      <td>EQ</td>\n",
              "      <td>418.90</td>\n",
              "      <td>417.5</td>\n",
              "      <td>423.10</td>\n",
              "      <td>416.55</td>\n",
              "      <td>420.00</td>\n",
              "      <td>420.35</td>\n",
              "      <td>420.45</td>\n",
              "      <td>5408165</td>\n",
              "    </tr>\n",
              "    <tr>\n",
              "      <th>5303</th>\n",
              "      <td>28-04-2021</td>\n",
              "      <td>BPCL</td>\n",
              "      <td>EQ</td>\n",
              "      <td>420.35</td>\n",
              "      <td>422.0</td>\n",
              "      <td>424.35</td>\n",
              "      <td>414.90</td>\n",
              "      <td>417.15</td>\n",
              "      <td>417.50</td>\n",
              "      <td>419.33</td>\n",
              "      <td>9902533</td>\n",
              "    </tr>\n",
              "    <tr>\n",
              "      <th>5304</th>\n",
              "      <td>29-04-2021</td>\n",
              "      <td>BPCL</td>\n",
              "      <td>EQ</td>\n",
              "      <td>417.50</td>\n",
              "      <td>422.0</td>\n",
              "      <td>423.00</td>\n",
              "      <td>417.00</td>\n",
              "      <td>419.00</td>\n",
              "      <td>419.55</td>\n",
              "      <td>420.00</td>\n",
              "      <td>6632804</td>\n",
              "    </tr>\n",
              "    <tr>\n",
              "      <th>5305</th>\n",
              "      <td>30-04-2021</td>\n",
              "      <td>BPCL</td>\n",
              "      <td>EQ</td>\n",
              "      <td>419.55</td>\n",
              "      <td>417.5</td>\n",
              "      <td>437.50</td>\n",
              "      <td>414.65</td>\n",
              "      <td>422.10</td>\n",
              "      <td>421.80</td>\n",
              "      <td>428.14</td>\n",
              "      <td>16851470</td>\n",
              "    </tr>\n",
              "  </tbody>\n",
              "</table>\n",
              "</div>\n",
              "      <button class=\"colab-df-convert\" onclick=\"convertToInteractive('df-ff0e895e-c36b-4284-a2cf-2d5813886e97')\"\n",
              "              title=\"Convert this dataframe to an interactive table.\"\n",
              "              style=\"display:none;\">\n",
              "        \n",
              "  <svg xmlns=\"http://www.w3.org/2000/svg\" height=\"24px\"viewBox=\"0 0 24 24\"\n",
              "       width=\"24px\">\n",
              "    <path d=\"M0 0h24v24H0V0z\" fill=\"none\"/>\n",
              "    <path d=\"M18.56 5.44l.94 2.06.94-2.06 2.06-.94-2.06-.94-.94-2.06-.94 2.06-2.06.94zm-11 1L8.5 8.5l.94-2.06 2.06-.94-2.06-.94L8.5 2.5l-.94 2.06-2.06.94zm10 10l.94 2.06.94-2.06 2.06-.94-2.06-.94-.94-2.06-.94 2.06-2.06.94z\"/><path d=\"M17.41 7.96l-1.37-1.37c-.4-.4-.92-.59-1.43-.59-.52 0-1.04.2-1.43.59L10.3 9.45l-7.72 7.72c-.78.78-.78 2.05 0 2.83L4 21.41c.39.39.9.59 1.41.59.51 0 1.02-.2 1.41-.59l7.78-7.78 2.81-2.81c.8-.78.8-2.07 0-2.86zM5.41 20L4 18.59l7.72-7.72 1.47 1.35L5.41 20z\"/>\n",
              "  </svg>\n",
              "      </button>\n",
              "      \n",
              "  <style>\n",
              "    .colab-df-container {\n",
              "      display:flex;\n",
              "      flex-wrap:wrap;\n",
              "      gap: 12px;\n",
              "    }\n",
              "\n",
              "    .colab-df-convert {\n",
              "      background-color: #E8F0FE;\n",
              "      border: none;\n",
              "      border-radius: 50%;\n",
              "      cursor: pointer;\n",
              "      display: none;\n",
              "      fill: #1967D2;\n",
              "      height: 32px;\n",
              "      padding: 0 0 0 0;\n",
              "      width: 32px;\n",
              "    }\n",
              "\n",
              "    .colab-df-convert:hover {\n",
              "      background-color: #E2EBFA;\n",
              "      box-shadow: 0px 1px 2px rgba(60, 64, 67, 0.3), 0px 1px 3px 1px rgba(60, 64, 67, 0.15);\n",
              "      fill: #174EA6;\n",
              "    }\n",
              "\n",
              "    [theme=dark] .colab-df-convert {\n",
              "      background-color: #3B4455;\n",
              "      fill: #D2E3FC;\n",
              "    }\n",
              "\n",
              "    [theme=dark] .colab-df-convert:hover {\n",
              "      background-color: #434B5C;\n",
              "      box-shadow: 0px 1px 3px 1px rgba(0, 0, 0, 0.15);\n",
              "      filter: drop-shadow(0px 1px 2px rgba(0, 0, 0, 0.3));\n",
              "      fill: #FFFFFF;\n",
              "    }\n",
              "  </style>\n",
              "\n",
              "      <script>\n",
              "        const buttonEl =\n",
              "          document.querySelector('#df-ff0e895e-c36b-4284-a2cf-2d5813886e97 button.colab-df-convert');\n",
              "        buttonEl.style.display =\n",
              "          google.colab.kernel.accessAllowed ? 'block' : 'none';\n",
              "\n",
              "        async function convertToInteractive(key) {\n",
              "          const element = document.querySelector('#df-ff0e895e-c36b-4284-a2cf-2d5813886e97');\n",
              "          const dataTable =\n",
              "            await google.colab.kernel.invokeFunction('convertToInteractive',\n",
              "                                                     [key], {});\n",
              "          if (!dataTable) return;\n",
              "\n",
              "          const docLinkHtml = 'Like what you see? Visit the ' +\n",
              "            '<a target=\"_blank\" href=https://colab.research.google.com/notebooks/data_table.ipynb>data table notebook</a>'\n",
              "            + ' to learn more about interactive tables.';\n",
              "          element.innerHTML = '';\n",
              "          dataTable['output_type'] = 'display_data';\n",
              "          await google.colab.output.renderOutput(dataTable, element);\n",
              "          const docLink = document.createElement('div');\n",
              "          docLink.innerHTML = docLinkHtml;\n",
              "          element.appendChild(docLink);\n",
              "        }\n",
              "      </script>\n",
              "    </div>\n",
              "  </div>\n",
              "  "
            ],
            "text/plain": [
              "            Date Symbol Series  Prev Close  ...    Last   Close    VWAP    Volume\n",
              "5301  26-04-2021   BPCL     EQ      423.05  ...  417.60  418.90  421.33   6444098\n",
              "5302  27-04-2021   BPCL     EQ      418.90  ...  420.00  420.35  420.45   5408165\n",
              "5303  28-04-2021   BPCL     EQ      420.35  ...  417.15  417.50  419.33   9902533\n",
              "5304  29-04-2021   BPCL     EQ      417.50  ...  419.00  419.55  420.00   6632804\n",
              "5305  30-04-2021   BPCL     EQ      419.55  ...  422.10  421.80  428.14  16851470\n",
              "\n",
              "[5 rows x 11 columns]"
            ]
          },
          "metadata": {},
          "execution_count": 6
        }
      ]
    },
    {
      "cell_type": "code",
      "source": [
        "BPCL = BPCL.reset_index()['Close']"
      ],
      "metadata": {
        "id": "InNds5uSKV4x"
      },
      "execution_count": null,
      "outputs": []
    },
    {
      "cell_type": "code",
      "source": [
        "BPCL.shape"
      ],
      "metadata": {
        "colab": {
          "base_uri": "https://localhost:8080/"
        },
        "id": "Xb48Dv7uKik3",
        "outputId": "896f4c3d-828f-4810-faf2-1ebbe2ce02e0"
      },
      "execution_count": null,
      "outputs": [
        {
          "output_type": "execute_result",
          "data": {
            "text/plain": [
              "(5306,)"
            ]
          },
          "metadata": {},
          "execution_count": 8
        }
      ]
    },
    {
      "cell_type": "code",
      "source": [
        "plt.plot(BPCL)"
      ],
      "metadata": {
        "colab": {
          "base_uri": "https://localhost:8080/",
          "height": 282
        },
        "id": "1Y5jt8Z8Kl5h",
        "outputId": "a3a725cd-c978-4999-8af0-d4b0cb9dddbb"
      },
      "execution_count": null,
      "outputs": [
        {
          "output_type": "execute_result",
          "data": {
            "text/plain": [
              "[<matplotlib.lines.Line2D at 0x7f2c9baea790>]"
            ]
          },
          "metadata": {},
          "execution_count": 9
        },
        {
          "output_type": "display_data",
          "data": {
            "image/png": "[encoded data removed]",
            "text/plain": [
              "<Figure size 432x288 with 1 Axes>"
            ]
          },
          "metadata": {
            "needs_background": "light"
          }
        }
      ]
    },
    {
      "cell_type": "code",
      "source": [
        "from sklearn.preprocessing import MinMaxScaler\n",
        "scaler=MinMaxScaler(feature_range=(0,1))\n",
        "BPCL = scaler.fit_transform(np.array(BPCL).reshape(-1,1))"
      ],
      "metadata": {
        "id": "2zrfIEHQKuAH"
      },
      "execution_count": null,
      "outputs": []
    },
    {
      "cell_type": "code",
      "source": [
        "BPCL.shape"
      ],
      "metadata": {
        "colab": {
          "base_uri": "https://localhost:8080/"
        },
        "id": "jxpM5C0pLkfY",
        "outputId": "5a631a22-6620-4c39-cfcb-0dbd8ec8f8d4"
      },
      "execution_count": null,
      "outputs": [
        {
          "output_type": "execute_result",
          "data": {
            "text/plain": [
              "(5306, 1)"
            ]
          },
          "metadata": {},
          "execution_count": 12
        }
      ]
    },
    {
      "cell_type": "code",
      "source": [
        "BPCL"
      ],
      "metadata": {
        "colab": {
          "base_uri": "https://localhost:8080/"
        },
        "id": "sllNoqFwL2l2",
        "outputId": "5932df1f-1315-4667-e948-773ef673ed01"
      },
      "execution_count": null,
      "outputs": [
        {
          "output_type": "execute_result",
          "data": {
            "text/plain": [
              "array([[0.28255876],\n",
              "       [0.25445927],\n",
              "       [0.24414797],\n",
              "       ...,\n",
              "       [0.30039584],\n",
              "       [0.30239945],\n",
              "       [0.30459854]])"
            ]
          },
          "metadata": {},
          "execution_count": 14
        }
      ]
    },
    {
      "cell_type": "code",
      "source": [
        "#splitting dataset into train and test split\n",
        "training_size=int(len(BPCL)*0.65)\n",
        "test_size=len(BPCL)-training_size\n",
        "train_data,test_data=BPCL[0:training_size,:],BPCL[training_size:len(BPCL),:1]"
      ],
      "metadata": {
        "id": "3rx6RuAeLo5r"
      },
      "execution_count": null,
      "outputs": []
    },
    {
      "cell_type": "code",
      "source": [
        "training_size,test_size"
      ],
      "metadata": {
        "colab": {
          "base_uri": "https://localhost:8080/"
        },
        "id": "WdE8zz3eM-Aj",
        "outputId": "71119097-c713-4f77-e822-21d1eaf0a2ba"
      },
      "execution_count": null,
      "outputs": [
        {
          "output_type": "execute_result",
          "data": {
            "text/plain": [
              "(3448, 1858)"
            ]
          },
          "metadata": {},
          "execution_count": 16
        }
      ]
    },
    {
      "cell_type": "code",
      "source": [
        "len(train_data),len(test_data)"
      ],
      "metadata": {
        "colab": {
          "base_uri": "https://localhost:8080/"
        },
        "id": "KWLS2eTPNHAP",
        "outputId": "f2118840-1eb0-405f-b559-da050fc3b4ce"
      },
      "execution_count": null,
      "outputs": [
        {
          "output_type": "execute_result",
          "data": {
            "text/plain": [
              "(3448, 1858)"
            ]
          },
          "metadata": {},
          "execution_count": 17
        }
      ]
    },
    {
      "cell_type": "code",
      "source": [
        "train_data"
      ],
      "metadata": {
        "colab": {
          "base_uri": "https://localhost:8080/"
        },
        "id": "YaDiaqExNa7z",
        "outputId": "fb919343-8be1-4c87-8660-f160a9f48f65"
      },
      "execution_count": null,
      "outputs": [
        {
          "output_type": "execute_result",
          "data": {
            "text/plain": [
              "array([[0.28255876],\n",
              "       [0.25445927],\n",
              "       [0.24414797],\n",
              "       ...,\n",
              "       [0.24634707],\n",
              "       [0.24693349],\n",
              "       [0.24517422]])"
            ]
          },
          "metadata": {},
          "execution_count": 18
        }
      ]
    },
    {
      "cell_type": "code",
      "source": [
        "test_data"
      ],
      "metadata": {
        "colab": {
          "base_uri": "https://localhost:8080/"
        },
        "id": "4vlNUKlCNeHr",
        "outputId": "fccaeb82-06c4-44a7-d273-77da47b4613f"
      },
      "execution_count": null,
      "outputs": [
        {
          "output_type": "execute_result",
          "data": {
            "text/plain": [
              "array([[0.24038509],\n",
              "       [0.24121585],\n",
              "       [0.23325026],\n",
              "       ...,\n",
              "       [0.30039584],\n",
              "       [0.30239945],\n",
              "       [0.30459854]])"
            ]
          },
          "metadata": {},
          "execution_count": 19
        }
      ]
    },
    {
      "cell_type": "code",
      "source": [
        "import numpy\n",
        "def create_dataset(dataset,time_step=1):\n",
        "  dataX,dataY= [],[]\n",
        "  for i in range(len(dataset)-time_step-1):\n",
        "    a = dataset[i:(i+time_step),0]\n",
        "    dataX.append(a)\n",
        "    dataY.append(dataset[i + time_step,0])\n",
        "    return numpy.array(dataX),numpy.array(dataY)"
      ],
      "metadata": {
        "id": "YQzeVrS9NhFB"
      },
      "execution_count": null,
      "outputs": []
    },
    {
      "cell_type": "code",
      "source": [
        "time_step =100\n",
        "X_train,y_train = create_dataset(train_data,time_step)\n",
        "X_test,ytest= create_dataset(test_data,time_step)"
      ],
      "metadata": {
        "id": "8rCtP1cpPCAw"
      },
      "execution_count": null,
      "outputs": []
    },
    {
      "cell_type": "code",
      "source": [
        "print(X_train)"
      ],
      "metadata": {
        "colab": {
          "base_uri": "https://localhost:8080/"
        },
        "id": "BEXw4UqaROGs",
        "outputId": "7e9451a6-38ee-41d4-e639-9ec13e08a7ca"
      },
      "execution_count": null,
      "outputs": [
        {
          "output_type": "stream",
          "name": "stdout",
          "text": [
            "[[0.28255876 0.25445927 0.24414797 0.26403753 0.26359771 0.26858232\n",
            "  0.25670723 0.26178957 0.25983482 0.25827103 0.25968822 0.26447735\n",
            "  0.26066559 0.25514343 0.25328642 0.23950545 0.23300591 0.24996335\n",
            "  0.25910179 0.26589454 0.26271808 0.28358501 0.26550359 0.25480135\n",
            "  0.25240678 0.23813713 0.26447735 0.23471632 0.21262767 0.23642672\n",
            "  0.21771001 0.2149245  0.21267654 0.18711821 0.1796413  0.15667302\n",
            "  0.15080878 0.15633094 0.15628207 0.17729561 0.16043591 0.16204858\n",
            "  0.14372282 0.1360993  0.11664956 0.09871475 0.0838098  0.08576455\n",
            "  0.08649758 0.08669306 0.10037629 0.11088306 0.11024776 0.12730294\n",
            "  0.14201241 0.14856082 0.13199433 0.11308215 0.13077261 0.14856082\n",
            "  0.13854274 0.14694815 0.16732639 0.15481601 0.1457753  0.14132825\n",
            "  0.15882324 0.15486488 0.1546694  0.14802326 0.14689928 0.13409568\n",
            "  0.12671651 0.10995455 0.09695548 0.09265504 0.08429849 0.08512926\n",
            "  0.07867859 0.06377364 0.04344427 0.0515076  0.05732297 0.05013928\n",
            "  0.04500806 0.04769584 0.05057909 0.04842887 0.04632752 0.0427601\n",
            "  0.04891756 0.05981528 0.07994918 0.07032204 0.0741338  0.07721253\n",
            "  0.09939892 0.11669843 0.12730294 0.12725407]]\n"
          ]
        }
      ]
    },
    {
      "cell_type": "code",
      "source": [
        "print(X_train.shape), print(y_train.shape)"
      ],
      "metadata": {
        "colab": {
          "base_uri": "https://localhost:8080/"
        },
        "id": "txbswIUuRZRb",
        "outputId": "a6fe3f4c-5ef3-4fc2-d663-f16cddad0c15"
      },
      "execution_count": null,
      "outputs": [
        {
          "output_type": "stream",
          "name": "stdout",
          "text": [
            "(1, 100)\n",
            "(1,)\n"
          ]
        },
        {
          "output_type": "execute_result",
          "data": {
            "text/plain": [
              "(None, None)"
            ]
          },
          "metadata": {},
          "execution_count": 32
        }
      ]
    },
    {
      "cell_type": "code",
      "source": [
        "print(X_test.shape),print(ytest.shape)"
      ],
      "metadata": {
        "colab": {
          "base_uri": "https://localhost:8080/"
        },
        "id": "1sGudqxFRpWO",
        "outputId": "13855c52-9740-4cda-9312-df42973fd18f"
      },
      "execution_count": null,
      "outputs": [
        {
          "output_type": "stream",
          "name": "stdout",
          "text": [
            "(1, 100)\n",
            "(1,)\n"
          ]
        },
        {
          "output_type": "execute_result",
          "data": {
            "text/plain": [
              "(None, None)"
            ]
          },
          "metadata": {},
          "execution_count": 33
        }
      ]
    },
    {
      "cell_type": "code",
      "source": [
        "# reshape input to be [samples, time steps,features] which is required for LSTM\n",
        "X_train=X_train.reshape(X_train.shape[0],X_train.shape[1],1)\n",
        "X_test=X_test.reshape(X_test.shape[0],X_test.shape[1],1)"
      ],
      "metadata": {
        "id": "dUujKCnJSPg8"
      },
      "execution_count": null,
      "outputs": []
    },
    {
      "cell_type": "code",
      "source": [
        "#Create LSTM model\n",
        "from tensorflow.keras.models import Sequential\n",
        "from tensorflow.keras.layers import Dense\n",
        "from tensorflow.keras.layers import LSTM"
      ],
      "metadata": {
        "id": "Yl31LuN5TGI1"
      },
      "execution_count": null,
      "outputs": []
    },
    {
      "cell_type": "code",
      "source": [
        "model=Sequential()\n",
        "model.add(LSTM(50,return_sequences=True,input_shape=(100,1)))\n",
        "model.add(LSTM(50,return_sequences=True))\n",
        "model.add(LSTM(50))\n",
        "model.add(Dense(1))\n",
        "model.compile(loss='mean_squared_error',optimizer='adam')"
      ],
      "metadata": {
        "id": "gl_nn8qYUfEg"
      },
      "execution_count": null,
      "outputs": []
    },
    {
      "cell_type": "code",
      "source": [
        "model.summary()"
      ],
      "metadata": {
        "colab": {
          "base_uri": "https://localhost:8080/"
        },
        "id": "Uq_P67GyUhWM",
        "outputId": "dd347615-e803-4039-b917-ff312af77cd5"
      },
      "execution_count": null,
      "outputs": [
        {
          "output_type": "stream",
          "name": "stdout",
          "text": [
            "Model: \"sequential\"\n",
            "_________________________________________________________________\n",
            " Layer (type)                Output Shape              Param #   \n",
            "=================================================================\n",
            " lstm (LSTM)                 (None, 100, 50)           10400     \n",
            "                                                                 \n",
            " lstm_1 (LSTM)               (None, 100, 50)           20200     \n",
            "                                                                 \n",
            " lstm_2 (LSTM)               (None, 50)                20200     \n",
            "                                                                 \n",
            " dense (Dense)               (None, 1)                 51        \n",
            "                                                                 \n",
            "=================================================================\n",
            "Total params: 50,851\n",
            "Trainable params: 50,851\n",
            "Non-trainable params: 0\n",
            "_________________________________________________________________\n"
          ]
        }
      ]
    },
    {
      "cell_type": "code",
      "source": [
        "model.summary()"
      ],
      "metadata": {
        "colab": {
          "base_uri": "https://localhost:8080/"
        },
        "id": "wd1mP076UzIV",
        "outputId": "457d5f3c-b3fe-4f74-c84d-d961761d45c6"
      },
      "execution_count": null,
      "outputs": [
        {
          "output_type": "stream",
          "name": "stdout",
          "text": [
            "Model: \"sequential\"\n",
            "_________________________________________________________________\n",
            " Layer (type)                Output Shape              Param #   \n",
            "=================================================================\n",
            " lstm (LSTM)                 (None, 100, 50)           10400     \n",
            "                                                                 \n",
            " lstm_1 (LSTM)               (None, 100, 50)           20200     \n",
            "                                                                 \n",
            " lstm_2 (LSTM)               (None, 50)                20200     \n",
            "                                                                 \n",
            " dense (Dense)               (None, 1)                 51        \n",
            "                                                                 \n",
            "=================================================================\n",
            "Total params: 50,851\n",
            "Trainable params: 50,851\n",
            "Non-trainable params: 0\n",
            "_________________________________________________________________\n"
          ]
        }
      ]
    },
    {
      "cell_type": "code",
      "source": [
        "model.fit(X_train,y_train,validation_data=(X_test,ytest),epochs=100,batch_size=64,verbose=1)"
      ],
      "metadata": {
        "colab": {
          "base_uri": "https://localhost:8080/"
        },
        "id": "Mzz0BK4gUzXm",
        "outputId": "9793cd26-e5b4-41a8-9f64-af14e00ae3c3"
      },
      "execution_count": null,
      "outputs": [
        {
          "output_type": "stream",
          "name": "stdout",
          "text": [
            "Epoch 1/100\n",
            "1/1 [==============================] - 7s 7s/step - loss: 0.0128 - val_loss: 0.0798\n",
            "Epoch 2/100\n",
            "1/1 [==============================] - 0s 134ms/step - loss: 0.0082 - val_loss: 0.0574\n",
            "Epoch 3/100\n",
            "1/1 [==============================] - 0s 158ms/step - loss: 0.0041 - val_loss: 0.0347\n",
            "Epoch 4/100\n",
            "1/1 [==============================] - 0s 138ms/step - loss: 9.6992e-04 - val_loss: 0.0142\n",
            "Epoch 5/100\n",
            "1/1 [==============================] - 0s 147ms/step - loss: 1.1561e-04 - val_loss: 0.0037\n",
            "Epoch 6/100\n",
            "1/1 [==============================] - 0s 135ms/step - loss: 0.0022 - val_loss: 0.0037\n",
            "Epoch 7/100\n",
            "1/1 [==============================] - 0s 138ms/step - loss: 0.0024 - val_loss: 0.0070\n",
            "Epoch 8/100\n",
            "1/1 [==============================] - 0s 140ms/step - loss: 0.0012 - val_loss: 0.0126\n",
            "Epoch 9/100\n",
            "1/1 [==============================] - 0s 135ms/step - loss: 2.9236e-04 - val_loss: 0.0190\n",
            "Epoch 10/100\n",
            "1/1 [==============================] - 0s 145ms/step - loss: 1.5715e-06 - val_loss: 0.0248\n",
            "Epoch 11/100\n",
            "1/1 [==============================] - 0s 138ms/step - loss: 1.2022e-04 - val_loss: 0.0293\n",
            "Epoch 12/100\n",
            "1/1 [==============================] - 0s 139ms/step - loss: 3.6823e-04 - val_loss: 0.0322\n",
            "Epoch 13/100\n",
            "1/1 [==============================] - 0s 135ms/step - loss: 5.6120e-04 - val_loss: 0.0335\n",
            "Epoch 14/100\n",
            "1/1 [==============================] - 0s 153ms/step - loss: 6.2624e-04 - val_loss: 0.0335\n",
            "Epoch 15/100\n",
            "1/1 [==============================] - 0s 133ms/step - loss: 5.6737e-04 - val_loss: 0.0324\n",
            "Epoch 16/100\n",
            "1/1 [==============================] - 0s 134ms/step - loss: 4.2654e-04 - val_loss: 0.0306\n",
            "Epoch 17/100\n",
            "1/1 [==============================] - 0s 142ms/step - loss: 2.5724e-04 - val_loss: 0.0284\n",
            "Epoch 18/100\n",
            "1/1 [==============================] - 0s 144ms/step - loss: 1.0919e-04 - val_loss: 0.0260\n",
            "Epoch 19/100\n",
            "1/1 [==============================] - 0s 135ms/step - loss: 1.9003e-05 - val_loss: 0.0237\n",
            "Epoch 20/100\n",
            "1/1 [==============================] - 0s 135ms/step - loss: 2.9178e-06 - val_loss: 0.0217\n",
            "Epoch 21/100\n",
            "1/1 [==============================] - 0s 135ms/step - loss: 5.1183e-05 - val_loss: 0.0202\n",
            "Epoch 22/100\n",
            "1/1 [==============================] - 0s 133ms/step - loss: 1.2884e-04 - val_loss: 0.0195\n",
            "Epoch 23/100\n",
            "1/1 [==============================] - 0s 129ms/step - loss: 1.9060e-04 - val_loss: 0.0195\n",
            "Epoch 24/100\n",
            "1/1 [==============================] - 0s 145ms/step - loss: 2.0575e-04 - val_loss: 0.0201\n",
            "Epoch 25/100\n",
            "1/1 [==============================] - 0s 127ms/step - loss: 1.7261e-04 - val_loss: 0.0213\n",
            "Epoch 26/100\n",
            "1/1 [==============================] - 0s 127ms/step - loss: 1.1249e-04 - val_loss: 0.0227\n",
            "Epoch 27/100\n",
            "1/1 [==============================] - 0s 130ms/step - loss: 5.2809e-05 - val_loss: 0.0244\n",
            "Epoch 28/100\n",
            "1/1 [==============================] - 0s 130ms/step - loss: 1.3142e-05 - val_loss: 0.0261\n",
            "Epoch 29/100\n",
            "1/1 [==============================] - 0s 133ms/step - loss: 1.0079e-08 - val_loss: 0.0275\n",
            "Epoch 30/100\n",
            "1/1 [==============================] - 0s 134ms/step - loss: 8.9863e-06 - val_loss: 0.0288\n",
            "Epoch 31/100\n",
            "1/1 [==============================] - 0s 130ms/step - loss: 2.9890e-05 - val_loss: 0.0297\n",
            "Epoch 32/100\n",
            "1/1 [==============================] - 0s 131ms/step - loss: 5.1800e-05 - val_loss: 0.0302\n",
            "Epoch 33/100\n",
            "1/1 [==============================] - 0s 121ms/step - loss: 6.6422e-05 - val_loss: 0.0304\n",
            "Epoch 34/100\n",
            "1/1 [==============================] - 0s 131ms/step - loss: 6.9623e-05 - val_loss: 0.0303\n",
            "Epoch 35/100\n",
            "1/1 [==============================] - 0s 132ms/step - loss: 6.1512e-05 - val_loss: 0.0298\n",
            "Epoch 36/100\n",
            "1/1 [==============================] - 0s 130ms/step - loss: 4.5516e-05 - val_loss: 0.0292\n",
            "Epoch 37/100\n",
            "1/1 [==============================] - 0s 125ms/step - loss: 2.6888e-05 - val_loss: 0.0284\n",
            "Epoch 38/100\n",
            "1/1 [==============================] - 0s 131ms/step - loss: 1.0986e-05 - val_loss: 0.0276\n",
            "Epoch 39/100\n",
            "1/1 [==============================] - 0s 146ms/step - loss: 1.7108e-06 - val_loss: 0.0268\n",
            "Epoch 40/100\n",
            "1/1 [==============================] - 0s 133ms/step - loss: 4.2471e-07 - val_loss: 0.0261\n",
            "Epoch 41/100\n",
            "1/1 [==============================] - 0s 132ms/step - loss: 5.6996e-06 - val_loss: 0.0256\n",
            "Epoch 42/100\n",
            "1/1 [==============================] - 0s 131ms/step - loss: 1.4028e-05 - val_loss: 0.0252\n",
            "Epoch 43/100\n",
            "1/1 [==============================] - 0s 126ms/step - loss: 2.1299e-05 - val_loss: 0.0251\n",
            "Epoch 44/100\n",
            "1/1 [==============================] - 0s 131ms/step - loss: 2.4435e-05 - val_loss: 0.0253\n",
            "Epoch 45/100\n",
            "1/1 [==============================] - 0s 127ms/step - loss: 2.2476e-05 - val_loss: 0.0256\n",
            "Epoch 46/100\n",
            "1/1 [==============================] - 0s 119ms/step - loss: 1.6635e-05 - val_loss: 0.0260\n",
            "Epoch 47/100\n",
            "1/1 [==============================] - 0s 149ms/step - loss: 9.4345e-06 - val_loss: 0.0266\n",
            "Epoch 48/100\n",
            "1/1 [==============================] - 0s 128ms/step - loss: 3.4577e-06 - val_loss: 0.0272\n",
            "Epoch 49/100\n",
            "1/1 [==============================] - 0s 132ms/step - loss: 3.4443e-07 - val_loss: 0.0277\n",
            "Epoch 50/100\n",
            "1/1 [==============================] - 0s 137ms/step - loss: 3.7674e-07 - val_loss: 0.0282\n",
            "Epoch 51/100\n",
            "1/1 [==============================] - 0s 140ms/step - loss: 2.6696e-06 - val_loss: 0.0286\n",
            "Epoch 52/100\n",
            "1/1 [==============================] - 0s 125ms/step - loss: 5.7361e-06 - val_loss: 0.0288\n",
            "Epoch 53/100\n",
            "1/1 [==============================] - 0s 132ms/step - loss: 8.1299e-06 - val_loss: 0.0289\n",
            "Epoch 54/100\n",
            "1/1 [==============================] - 0s 132ms/step - loss: 8.9339e-06 - val_loss: 0.0288\n",
            "Epoch 55/100\n",
            "1/1 [==============================] - 0s 137ms/step - loss: 7.9728e-06 - val_loss: 0.0286\n",
            "Epoch 56/100\n",
            "1/1 [==============================] - 0s 132ms/step - loss: 5.7443e-06 - val_loss: 0.0284\n",
            "Epoch 57/100\n",
            "1/1 [==============================] - 0s 134ms/step - loss: 3.1341e-06 - val_loss: 0.0280\n",
            "Epoch 58/100\n",
            "1/1 [==============================] - 0s 134ms/step - loss: 1.0428e-06 - val_loss: 0.0277\n",
            "Epoch 59/100\n",
            "1/1 [==============================] - 0s 130ms/step - loss: 5.4592e-08 - val_loss: 0.0274\n",
            "Epoch 60/100\n",
            "1/1 [==============================] - 0s 142ms/step - loss: 2.5847e-07 - val_loss: 0.0271\n",
            "Epoch 61/100\n",
            "1/1 [==============================] - 0s 140ms/step - loss: 1.2773e-06 - val_loss: 0.0269\n",
            "Epoch 62/100\n",
            "1/1 [==============================] - 0s 146ms/step - loss: 2.4771e-06 - val_loss: 0.0268\n",
            "Epoch 63/100\n",
            "1/1 [==============================] - 0s 132ms/step - loss: 3.2584e-06 - val_loss: 0.0269\n",
            "Epoch 64/100\n",
            "1/1 [==============================] - 0s 130ms/step - loss: 3.2970e-06 - val_loss: 0.0269\n",
            "Epoch 65/100\n",
            "1/1 [==============================] - 0s 131ms/step - loss: 2.6373e-06 - val_loss: 0.0271\n",
            "Epoch 66/100\n",
            "1/1 [==============================] - 0s 135ms/step - loss: 1.6117e-06 - val_loss: 0.0273\n",
            "Epoch 67/100\n",
            "1/1 [==============================] - 0s 141ms/step - loss: 6.5214e-07 - val_loss: 0.0275\n",
            "Epoch 68/100\n",
            "1/1 [==============================] - 0s 130ms/step - loss: 9.0070e-08 - val_loss: 0.0278\n",
            "Epoch 69/100\n",
            "1/1 [==============================] - 0s 135ms/step - loss: 3.6747e-08 - val_loss: 0.0280\n",
            "Epoch 70/100\n",
            "1/1 [==============================] - 0s 131ms/step - loss: 3.7768e-07 - val_loss: 0.0281\n",
            "Epoch 71/100\n",
            "1/1 [==============================] - 0s 132ms/step - loss: 8.6121e-07 - val_loss: 0.0282\n",
            "Epoch 72/100\n",
            "1/1 [==============================] - 0s 138ms/step - loss: 1.2264e-06 - val_loss: 0.0282\n",
            "Epoch 73/100\n",
            "1/1 [==============================] - 0s 142ms/step - loss: 1.3112e-06 - val_loss: 0.0282\n",
            "Epoch 74/100\n",
            "1/1 [==============================] - 0s 133ms/step - loss: 1.1008e-06 - val_loss: 0.0281\n",
            "Epoch 75/100\n",
            "1/1 [==============================] - 0s 136ms/step - loss: 7.0941e-07 - val_loss: 0.0279\n",
            "Epoch 76/100\n",
            "1/1 [==============================] - 0s 130ms/step - loss: 3.1047e-07 - val_loss: 0.0278\n",
            "Epoch 77/100\n",
            "1/1 [==============================] - 0s 140ms/step - loss: 5.4485e-08 - val_loss: 0.0277\n",
            "Epoch 78/100\n",
            "1/1 [==============================] - 0s 130ms/step - loss: 7.7569e-09 - val_loss: 0.0275\n",
            "Epoch 79/100\n",
            "1/1 [==============================] - 0s 135ms/step - loss: 1.3644e-07 - val_loss: 0.0275\n",
            "Epoch 80/100\n",
            "1/1 [==============================] - 0s 131ms/step - loss: 3.3648e-07 - val_loss: 0.0274\n",
            "Epoch 81/100\n",
            "1/1 [==============================] - 0s 131ms/step - loss: 4.9088e-07 - val_loss: 0.0274\n",
            "Epoch 82/100\n",
            "1/1 [==============================] - 0s 139ms/step - loss: 5.2428e-07 - val_loss: 0.0274\n",
            "Epoch 83/100\n",
            "1/1 [==============================] - 0s 128ms/step - loss: 4.3054e-07 - val_loss: 0.0275\n",
            "Epoch 84/100\n",
            "1/1 [==============================] - 0s 139ms/step - loss: 2.6365e-07 - val_loss: 0.0276\n",
            "Epoch 85/100\n",
            "1/1 [==============================] - 0s 135ms/step - loss: 1.0281e-07 - val_loss: 0.0277\n",
            "Epoch 86/100\n",
            "1/1 [==============================] - 0s 145ms/step - loss: 1.1299e-08 - val_loss: 0.0278\n",
            "Epoch 87/100\n",
            "1/1 [==============================] - 0s 133ms/step - loss: 1.0153e-08 - val_loss: 0.0278\n",
            "Epoch 88/100\n",
            "1/1 [==============================] - 0s 133ms/step - loss: 7.5814e-08 - val_loss: 0.0279\n",
            "Epoch 89/100\n",
            "1/1 [==============================] - 0s 138ms/step - loss: 1.5883e-07 - val_loss: 0.0279\n",
            "Epoch 90/100\n",
            "1/1 [==============================] - 0s 136ms/step - loss: 2.1124e-07 - val_loss: 0.0279\n",
            "Epoch 91/100\n",
            "1/1 [==============================] - 0s 147ms/step - loss: 2.0836e-07 - val_loss: 0.0279\n",
            "Epoch 92/100\n",
            "1/1 [==============================] - 0s 142ms/step - loss: 1.5621e-07 - val_loss: 0.0279\n",
            "Epoch 93/100\n",
            "1/1 [==============================] - 0s 128ms/step - loss: 8.3483e-08 - val_loss: 0.0278\n",
            "Epoch 94/100\n",
            "1/1 [==============================] - 0s 136ms/step - loss: 2.4088e-08 - val_loss: 0.0277\n",
            "Epoch 95/100\n",
            "1/1 [==============================] - 0s 129ms/step - loss: 1.9040e-10 - val_loss: 0.0277\n",
            "Epoch 96/100\n",
            "1/1 [==============================] - 0s 135ms/step - loss: 1.3475e-08 - val_loss: 0.0276\n",
            "Epoch 97/100\n",
            "1/1 [==============================] - 0s 134ms/step - loss: 4.7679e-08 - val_loss: 0.0276\n",
            "Epoch 98/100\n",
            "1/1 [==============================] - 0s 136ms/step - loss: 7.9413e-08 - val_loss: 0.0276\n",
            "Epoch 99/100\n",
            "1/1 [==============================] - 0s 135ms/step - loss: 9.0859e-08 - val_loss: 0.0276\n",
            "Epoch 100/100\n",
            "1/1 [==============================] - 0s 127ms/step - loss: 7.7572e-08 - val_loss: 0.0276\n"
          ]
        },
        {
          "output_type": "execute_result",
          "data": {
            "text/plain": [
              "<keras.callbacks.History at 0x7f2c1dea64d0>"
            ]
          },
          "metadata": {},
          "execution_count": 39
        }
      ]
    },
    {
      "cell_type": "code",
      "source": [
        "import tensorflow as tf"
      ],
      "metadata": {
        "id": "3Ah3M-8yVCR8"
      },
      "execution_count": null,
      "outputs": []
    },
    {
      "cell_type": "code",
      "source": [
        "tf.__version__"
      ],
      "metadata": {
        "colab": {
          "base_uri": "https://localhost:8080/",
          "height": 35
        },
        "id": "uLWG0LxEVjGJ",
        "outputId": "fb13e30b-122f-465f-fcd0-46c8c72c268c"
      },
      "execution_count": null,
      "outputs": [
        {
          "output_type": "execute_result",
          "data": {
            "application/vnd.google.colaboratory.intrinsic+json": {
              "type": "string"
            },
            "text/plain": [
              "'2.7.0'"
            ]
          },
          "metadata": {},
          "execution_count": 41
        }
      ]
    },
    {
      "cell_type": "code",
      "source": [
        "#Lets Do the prediction and check performance metrics\n",
        "train_predict=model.predict(X_train)\n",
        "test_predict=model.predict(X_test)"
      ],
      "metadata": {
        "id": "7Dazqj2MVqC_"
      },
      "execution_count": null,
      "outputs": []
    },
    {
      "cell_type": "code",
      "source": [
        "#Transformback to original form\n",
        "train_predict=scaler.inverse_transform(train_predict)\n",
        "test_predict=scaler.inverse_transform(test_predict)"
      ],
      "metadata": {
        "id": "nOS9rLTtVzpd"
      },
      "execution_count": null,
      "outputs": []
    },
    {
      "cell_type": "code",
      "source": [
        "#Calculate RMSE performance metrics\n",
        "import math\n",
        "from sklearn.metrics import mean_squared_error\n",
        "math.sqrt(mean_squared_error(y_train,train_predict))"
      ],
      "metadata": {
        "colab": {
          "base_uri": "https://localhost:8080/"
        },
        "id": "KLcKqDfEWAeW",
        "outputId": "e7592d09-5210-4d8c-86ae-2242514ccdce"
      },
      "execution_count": null,
      "outputs": [
        {
          "output_type": "execute_result",
          "data": {
            "text/plain": [
              "229.70840223612794"
            ]
          },
          "metadata": {},
          "execution_count": 44
        }
      ]
    },
    {
      "cell_type": "code",
      "source": [
        "#Test Data RMSE\n",
        "math.sqrt(mean_squared_error(ytest,test_predict))"
      ],
      "metadata": {
        "colab": {
          "base_uri": "https://localhost:8080/"
        },
        "id": "2XhoQaOEWHUx",
        "outputId": "58fbc179-9004-412f-c9c2-5d7480b44aad"
      },
      "execution_count": null,
      "outputs": [
        {
          "output_type": "execute_result",
          "data": {
            "text/plain": [
              "278.892339594849"
            ]
          },
          "metadata": {},
          "execution_count": 45
        }
      ]
    },
    {
      "cell_type": "code",
      "source": [
        "#Plotting \n",
        "# shift train predictions for plotting\n",
        "look_back=100\n",
        "trainPredictPlot = numpy.empty_like(BPCL)\n",
        "trainPredictPlot[:, :] = np.nan\n",
        "trainPredictPlot[look_back:len(train_predict)+look_back, :] = train_predict\n",
        "# shift test predictions for plotting\n",
        "testPredictPlot = numpy.empty_like(BPCL)\n",
        "testPredictPlot[:, :] = numpy.nan\n",
        "testPredictPlot[len(train_predict)+(look_back*2)+1:len(BPCL)-1, :] = test_predict\n",
        "# plot baseline and predictions\n",
        "plt.plot(scaler.inverse_transform(BPCL))\n",
        "plt.plot(trainPredictPlot)\n",
        "plt.plot(testPredictPlot)\n",
        "plt.show()"
      ],
      "metadata": {
        "colab": {
          "base_uri": "https://localhost:8080/",
          "height": 265
        },
        "id": "55sutxQDWQew",
        "outputId": "217d176a-58f9-4e71-9fdd-8cdd0e07c491"
      },
      "execution_count": null,
      "outputs": [
        {
          "output_type": "display_data",
          "data": {
            "image/png": "[encoded data removed]",
            "text/plain": [
              "<Figure size 432x288 with 1 Axes>"
            ]
          },
          "metadata": {
            "needs_background": "light"
          }
        }
      ]
    },
    {
      "cell_type": "code",
      "source": [
        "len(test_data)"
      ],
      "metadata": {
        "colab": {
          "base_uri": "https://localhost:8080/"
        },
        "id": "7QhBsypiXGjs",
        "outputId": "f08b060c-630d-4fb8-e744-0bdd2019c222"
      },
      "execution_count": null,
      "outputs": [
        {
          "output_type": "execute_result",
          "data": {
            "text/plain": [
              "1858"
            ]
          },
          "metadata": {},
          "execution_count": 49
        }
      ]
    },
    {
      "cell_type": "code",
      "source": [
        "x_input=test_data[1758:].reshape(1,-1)\n",
        "x_input.shape"
      ],
      "metadata": {
        "colab": {
          "base_uri": "https://localhost:8080/"
        },
        "id": "Ch23r78vXaqY",
        "outputId": "765cc4cb-0c53-4108-9ffb-2203dcdb4b02"
      },
      "execution_count": null,
      "outputs": [
        {
          "output_type": "execute_result",
          "data": {
            "text/plain": [
              "(1, 100)"
            ]
          },
          "metadata": {},
          "execution_count": 51
        }
      ]
    },
    {
      "cell_type": "code",
      "source": [
        "temp_input=list(x_input)\n",
        "temp_input=temp_input[0].tolist()"
      ],
      "metadata": {
        "id": "l9IZC75_Xubu"
      },
      "execution_count": null,
      "outputs": []
    },
    {
      "cell_type": "code",
      "source": [
        "temp_input"
      ],
      "metadata": {
        "colab": {
          "base_uri": "https://localhost:8080/"
        },
        "id": "mzab3cs7X0SO",
        "outputId": "58e3c167-c75c-4112-9ff0-4fda43082232"
      },
      "execution_count": null,
      "outputs": [
        {
          "output_type": "execute_result",
          "data": {
            "text/plain": [
              "[0.2773298147876655,\n",
              " 0.2757660167130919,\n",
              " 0.2784049259639349,\n",
              " 0.27395787518936615,\n",
              " 0.27855153203342614,\n",
              " 0.2826076332893515,\n",
              " 0.2807506230757953,\n",
              " 0.28861848213849384,\n",
              " 0.2819234716317256,\n",
              " 0.2829008454283341,\n",
              " 0.2787958754825783,\n",
              " 0.27728094609783516,\n",
              " 0.2513805404877095,\n",
              " 0.25641401554024335,\n",
              " 0.2582710257537995,\n",
              " 0.2613497532131164,\n",
              " 0.26643209695548065,\n",
              " 0.26521037970972,\n",
              " 0.2665298343351415,\n",
              " 0.2648194301910766,\n",
              " 0.2656501979181938,\n",
              " 0.2787470067927479,\n",
              " 0.2754728045741094,\n",
              " 0.27087914773004934,\n",
              " 0.2756682793334311,\n",
              " 0.2834384010164687,\n",
              " 0.28500219909104235,\n",
              " 0.28578409812832917,\n",
              " 0.29492254312661875,\n",
              " 0.30938767531642475,\n",
              " 0.2975614523774618,\n",
              " 0.29262571470458876,\n",
              " 0.296437472511362,\n",
              " 0.2968284220300054,\n",
              " 0.29140399745882817,\n",
              " 0.27943116845037386,\n",
              " 0.27087914773004934,\n",
              " 0.26433074329277234,\n",
              " 0.2679470263402238,\n",
              " 0.26726286468259786,\n",
              " 0.2764501783707179,\n",
              " 0.2911107853198456,\n",
              " 0.29785466451644427,\n",
              " 0.3014220788740654,\n",
              " 0.29795240189610517,\n",
              " 0.30288813956897814,\n",
              " 0.30220397791135223,\n",
              " 0.298734300933392,\n",
              " 0.3047451497825343,\n",
              " 0.3009822606655916,\n",
              " 0.30186189708253924,\n",
              " 0.3008356545961003,\n",
              " 0.29472706836729706,\n",
              " 0.31476323119777155,\n",
              " 0.31261300884523285,\n",
              " 0.30533157406049943,\n",
              " 0.3177442212774276,\n",
              " 0.3211161608757269,\n",
              " 0.34344915212823146,\n",
              " 0.3320138787079119,\n",
              " 0.33729169720959784,\n",
              " 0.3507305869129649,\n",
              " 0.34814054635195235,\n",
              " 0.34574598055026146,\n",
              " 0.3436934955773836,\n",
              " 0.3484826271807653,\n",
              " 0.3281532522113082,\n",
              " 0.3277623026926648,\n",
              " 0.3395396569417974,\n",
              " 0.34247177833162296,\n",
              " 0.3359233738943459,\n",
              " 0.3146166251282803,\n",
              " 0.30958315007574644,\n",
              " 0.315496261545228,\n",
              " 0.3217514538435225,\n",
              " 0.3189659385231882,\n",
              " 0.3125641401554024,\n",
              " 0.3018130283927088,\n",
              " 0.30694424082490346,\n",
              " 0.31339490788251967,\n",
              " 0.3106093925621854,\n",
              " 0.3198455749401358,\n",
              " 0.3107071299418463,\n",
              " 0.3107559986316767,\n",
              " 0.31085373601133753,\n",
              " 0.31315056443336753,\n",
              " 0.30831256414015545,\n",
              " 0.2871524214435811,\n",
              " 0.29247910863509746,\n",
              " 0.28803205786052877,\n",
              " 0.296779553340175,\n",
              " 0.29184381566730194,\n",
              " 0.2912085226995064,\n",
              " 0.3012266041147437,\n",
              " 0.3058202609588037,\n",
              " 0.30176415970287834,\n",
              " 0.30318135170796073,\n",
              " 0.30039583638762646,\n",
              " 0.3023994526706739,\n",
              " 0.30459854371304307]"
            ]
          },
          "metadata": {},
          "execution_count": 53
        }
      ]
    },
    {
      "cell_type": "code",
      "source": [
        "# demonstrate prediction for next 10 days\n",
        "from numpy import array\n",
        "\n",
        "lst_output=[]\n",
        "n_steps=100\n",
        "i=0\n",
        "while(i<30):\n",
        "    \n",
        "    if(len(temp_input)>100):\n",
        "        #print(temp_input)\n",
        "        x_input=np.array(temp_input[1:])\n",
        "        print(\"{} day input {}\".format(i,x_input))\n",
        "        x_input=x_input.reshape(1,-1)\n",
        "        x_input = x_input.reshape((1, n_steps, 1))\n",
        "        #print(x_input)\n",
        "        yhat = model.predict(x_input, verbose=0)\n",
        "        print(\"{} day output {}\".format(i,yhat))\n",
        "        temp_input.extend(yhat[0].tolist())\n",
        "        temp_input=temp_input[1:]\n",
        "        #print(temp_input)\n",
        "        lst_output.extend(yhat.tolist())\n",
        "        i=i+1\n",
        "    else:\n",
        "        x_input = x_input.reshape((1, n_steps,1))\n",
        "        yhat = model.predict(x_input, verbose=0)\n",
        "        print(yhat[0])\n",
        "        temp_input.extend(yhat[0].tolist())\n",
        "        print(len(temp_input))\n",
        "        lst_output.extend(yhat.tolist())\n",
        "        i=i+1\n",
        "    \n",
        "\n",
        "print(lst_output)"
      ],
      "metadata": {
        "colab": {
          "base_uri": "https://localhost:8080/"
        },
        "id": "Qh-ojbnZX4cb",
        "outputId": "30eed7c2-22dc-463e-82a3-1215fae2901b"
      },
      "execution_count": null,
      "outputs": [
        {
          "output_type": "stream",
          "name": "stdout",
          "text": [
            "[0.17180276]\n",
            "101\n",
            "1 day input [0.27576602 0.27840493 0.27395788 0.27855153 0.28260763 0.28075062\n",
            " 0.28861848 0.28192347 0.28290085 0.27879588 0.27728095 0.25138054\n",
            " 0.25641402 0.25827103 0.26134975 0.2664321  0.26521038 0.26652983\n",
            " 0.26481943 0.2656502  0.27874701 0.2754728  0.27087915 0.27566828\n",
            " 0.2834384  0.2850022  0.2857841  0.29492254 0.30938768 0.29756145\n",
            " 0.29262571 0.29643747 0.29682842 0.291404   0.27943117 0.27087915\n",
            " 0.26433074 0.26794703 0.26726286 0.27645018 0.29111079 0.29785466\n",
            " 0.30142208 0.2979524  0.30288814 0.30220398 0.2987343  0.30474515\n",
            " 0.30098226 0.3018619  0.30083565 0.29472707 0.31476323 0.31261301\n",
            " 0.30533157 0.31774422 0.32111616 0.34344915 0.33201388 0.3372917\n",
            " 0.35073059 0.34814055 0.34574598 0.3436935  0.34848263 0.32815325\n",
            " 0.3277623  0.33953966 0.34247178 0.33592337 0.31461663 0.30958315\n",
            " 0.31549626 0.32175145 0.31896594 0.31256414 0.30181303 0.30694424\n",
            " 0.31339491 0.31060939 0.31984557 0.31070713 0.310756   0.31085374\n",
            " 0.31315056 0.30831256 0.28715242 0.29247911 0.28803206 0.29677955\n",
            " 0.29184382 0.29120852 0.3012266  0.30582026 0.30176416 0.30318135\n",
            " 0.30039584 0.30239945 0.30459854 0.17180276]\n",
            "1 day output [[0.17131111]]\n",
            "2 day input [0.27840493 0.27395788 0.27855153 0.28260763 0.28075062 0.28861848\n",
            " 0.28192347 0.28290085 0.27879588 0.27728095 0.25138054 0.25641402\n",
            " 0.25827103 0.26134975 0.2664321  0.26521038 0.26652983 0.26481943\n",
            " 0.2656502  0.27874701 0.2754728  0.27087915 0.27566828 0.2834384\n",
            " 0.2850022  0.2857841  0.29492254 0.30938768 0.29756145 0.29262571\n",
            " 0.29643747 0.29682842 0.291404   0.27943117 0.27087915 0.26433074\n",
            " 0.26794703 0.26726286 0.27645018 0.29111079 0.29785466 0.30142208\n",
            " 0.2979524  0.30288814 0.30220398 0.2987343  0.30474515 0.30098226\n",
            " 0.3018619  0.30083565 0.29472707 0.31476323 0.31261301 0.30533157\n",
            " 0.31774422 0.32111616 0.34344915 0.33201388 0.3372917  0.35073059\n",
            " 0.34814055 0.34574598 0.3436935  0.34848263 0.32815325 0.3277623\n",
            " 0.33953966 0.34247178 0.33592337 0.31461663 0.30958315 0.31549626\n",
            " 0.32175145 0.31896594 0.31256414 0.30181303 0.30694424 0.31339491\n",
            " 0.31060939 0.31984557 0.31070713 0.310756   0.31085374 0.31315056\n",
            " 0.30831256 0.28715242 0.29247911 0.28803206 0.29677955 0.29184382\n",
            " 0.29120852 0.3012266  0.30582026 0.30176416 0.30318135 0.30039584\n",
            " 0.30239945 0.30459854 0.17180276 0.17131111]\n",
            "2 day output [[0.17020142]]\n",
            "3 day input [0.27395788 0.27855153 0.28260763 0.28075062 0.28861848 0.28192347\n",
            " 0.28290085 0.27879588 0.27728095 0.25138054 0.25641402 0.25827103\n",
            " 0.26134975 0.2664321  0.26521038 0.26652983 0.26481943 0.2656502\n",
            " 0.27874701 0.2754728  0.27087915 0.27566828 0.2834384  0.2850022\n",
            " 0.2857841  0.29492254 0.30938768 0.29756145 0.29262571 0.29643747\n",
            " 0.29682842 0.291404   0.27943117 0.27087915 0.26433074 0.26794703\n",
            " 0.26726286 0.27645018 0.29111079 0.29785466 0.30142208 0.2979524\n",
            " 0.30288814 0.30220398 0.2987343  0.30474515 0.30098226 0.3018619\n",
            " 0.30083565 0.29472707 0.31476323 0.31261301 0.30533157 0.31774422\n",
            " 0.32111616 0.34344915 0.33201388 0.3372917  0.35073059 0.34814055\n",
            " 0.34574598 0.3436935  0.34848263 0.32815325 0.3277623  0.33953966\n",
            " 0.34247178 0.33592337 0.31461663 0.30958315 0.31549626 0.32175145\n",
            " 0.31896594 0.31256414 0.30181303 0.30694424 0.31339491 0.31060939\n",
            " 0.31984557 0.31070713 0.310756   0.31085374 0.31315056 0.30831256\n",
            " 0.28715242 0.29247911 0.28803206 0.29677955 0.29184382 0.29120852\n",
            " 0.3012266  0.30582026 0.30176416 0.30318135 0.30039584 0.30239945\n",
            " 0.30459854 0.17180276 0.17131111 0.17020142]\n",
            "3 day output [[0.16853316]]\n",
            "4 day input [0.27855153 0.28260763 0.28075062 0.28861848 0.28192347 0.28290085\n",
            " 0.27879588 0.27728095 0.25138054 0.25641402 0.25827103 0.26134975\n",
            " 0.2664321  0.26521038 0.26652983 0.26481943 0.2656502  0.27874701\n",
            " 0.2754728  0.27087915 0.27566828 0.2834384  0.2850022  0.2857841\n",
            " 0.29492254 0.30938768 0.29756145 0.29262571 0.29643747 0.29682842\n",
            " 0.291404   0.27943117 0.27087915 0.26433074 0.26794703 0.26726286\n",
            " 0.27645018 0.29111079 0.29785466 0.30142208 0.2979524  0.30288814\n",
            " 0.30220398 0.2987343  0.30474515 0.30098226 0.3018619  0.30083565\n",
            " 0.29472707 0.31476323 0.31261301 0.30533157 0.31774422 0.32111616\n",
            " 0.34344915 0.33201388 0.3372917  0.35073059 0.34814055 0.34574598\n",
            " 0.3436935  0.34848263 0.32815325 0.3277623  0.33953966 0.34247178\n",
            " 0.33592337 0.31461663 0.30958315 0.31549626 0.32175145 0.31896594\n",
            " 0.31256414 0.30181303 0.30694424 0.31339491 0.31060939 0.31984557\n",
            " 0.31070713 0.310756   0.31085374 0.31315056 0.30831256 0.28715242\n",
            " 0.29247911 0.28803206 0.29677955 0.29184382 0.29120852 0.3012266\n",
            " 0.30582026 0.30176416 0.30318135 0.30039584 0.30239945 0.30459854\n",
            " 0.17180276 0.17131111 0.17020142 0.16853316]\n",
            "4 day output [[0.1664449]]\n",
            "5 day input [0.28260763 0.28075062 0.28861848 0.28192347 0.28290085 0.27879588\n",
            " 0.27728095 0.25138054 0.25641402 0.25827103 0.26134975 0.2664321\n",
            " 0.26521038 0.26652983 0.26481943 0.2656502  0.27874701 0.2754728\n",
            " 0.27087915 0.27566828 0.2834384  0.2850022  0.2857841  0.29492254\n",
            " 0.30938768 0.29756145 0.29262571 0.29643747 0.29682842 0.291404\n",
            " 0.27943117 0.27087915 0.26433074 0.26794703 0.26726286 0.27645018\n",
            " 0.29111079 0.29785466 0.30142208 0.2979524  0.30288814 0.30220398\n",
            " 0.2987343  0.30474515 0.30098226 0.3018619  0.30083565 0.29472707\n",
            " 0.31476323 0.31261301 0.30533157 0.31774422 0.32111616 0.34344915\n",
            " 0.33201388 0.3372917  0.35073059 0.34814055 0.34574598 0.3436935\n",
            " 0.34848263 0.32815325 0.3277623  0.33953966 0.34247178 0.33592337\n",
            " 0.31461663 0.30958315 0.31549626 0.32175145 0.31896594 0.31256414\n",
            " 0.30181303 0.30694424 0.31339491 0.31060939 0.31984557 0.31070713\n",
            " 0.310756   0.31085374 0.31315056 0.30831256 0.28715242 0.29247911\n",
            " 0.28803206 0.29677955 0.29184382 0.29120852 0.3012266  0.30582026\n",
            " 0.30176416 0.30318135 0.30039584 0.30239945 0.30459854 0.17180276\n",
            " 0.17131111 0.17020142 0.16853316 0.1664449 ]\n",
            "5 day output [[0.16409089]]\n",
            "6 day input [0.28075062 0.28861848 0.28192347 0.28290085 0.27879588 0.27728095\n",
            " 0.25138054 0.25641402 0.25827103 0.26134975 0.2664321  0.26521038\n",
            " 0.26652983 0.26481943 0.2656502  0.27874701 0.2754728  0.27087915\n",
            " 0.27566828 0.2834384  0.2850022  0.2857841  0.29492254 0.30938768\n",
            " 0.29756145 0.29262571 0.29643747 0.29682842 0.291404   0.27943117\n",
            " 0.27087915 0.26433074 0.26794703 0.26726286 0.27645018 0.29111079\n",
            " 0.29785466 0.30142208 0.2979524  0.30288814 0.30220398 0.2987343\n",
            " 0.30474515 0.30098226 0.3018619  0.30083565 0.29472707 0.31476323\n",
            " 0.31261301 0.30533157 0.31774422 0.32111616 0.34344915 0.33201388\n",
            " 0.3372917  0.35073059 0.34814055 0.34574598 0.3436935  0.34848263\n",
            " 0.32815325 0.3277623  0.33953966 0.34247178 0.33592337 0.31461663\n",
            " 0.30958315 0.31549626 0.32175145 0.31896594 0.31256414 0.30181303\n",
            " 0.30694424 0.31339491 0.31060939 0.31984557 0.31070713 0.310756\n",
            " 0.31085374 0.31315056 0.30831256 0.28715242 0.29247911 0.28803206\n",
            " 0.29677955 0.29184382 0.29120852 0.3012266  0.30582026 0.30176416\n",
            " 0.30318135 0.30039584 0.30239945 0.30459854 0.17180276 0.17131111\n",
            " 0.17020142 0.16853316 0.1664449  0.16409089]\n",
            "6 day output [[0.16160975]]\n",
            "7 day input [0.28861848 0.28192347 0.28290085 0.27879588 0.27728095 0.25138054\n",
            " 0.25641402 0.25827103 0.26134975 0.2664321  0.26521038 0.26652983\n",
            " 0.26481943 0.2656502  0.27874701 0.2754728  0.27087915 0.27566828\n",
            " 0.2834384  0.2850022  0.2857841  0.29492254 0.30938768 0.29756145\n",
            " 0.29262571 0.29643747 0.29682842 0.291404   0.27943117 0.27087915\n",
            " 0.26433074 0.26794703 0.26726286 0.27645018 0.29111079 0.29785466\n",
            " 0.30142208 0.2979524  0.30288814 0.30220398 0.2987343  0.30474515\n",
            " 0.30098226 0.3018619  0.30083565 0.29472707 0.31476323 0.31261301\n",
            " 0.30533157 0.31774422 0.32111616 0.34344915 0.33201388 0.3372917\n",
            " 0.35073059 0.34814055 0.34574598 0.3436935  0.34848263 0.32815325\n",
            " 0.3277623  0.33953966 0.34247178 0.33592337 0.31461663 0.30958315\n",
            " 0.31549626 0.32175145 0.31896594 0.31256414 0.30181303 0.30694424\n",
            " 0.31339491 0.31060939 0.31984557 0.31070713 0.310756   0.31085374\n",
            " 0.31315056 0.30831256 0.28715242 0.29247911 0.28803206 0.29677955\n",
            " 0.29184382 0.29120852 0.3012266  0.30582026 0.30176416 0.30318135\n",
            " 0.30039584 0.30239945 0.30459854 0.17180276 0.17131111 0.17020142\n",
            " 0.16853316 0.1664449  0.16409089 0.16160975]\n",
            "7 day output [[0.15911229]]\n",
            "8 day input [0.28192347 0.28290085 0.27879588 0.27728095 0.25138054 0.25641402\n",
            " 0.25827103 0.26134975 0.2664321  0.26521038 0.26652983 0.26481943\n",
            " 0.2656502  0.27874701 0.2754728  0.27087915 0.27566828 0.2834384\n",
            " 0.2850022  0.2857841  0.29492254 0.30938768 0.29756145 0.29262571\n",
            " 0.29643747 0.29682842 0.291404   0.27943117 0.27087915 0.26433074\n",
            " 0.26794703 0.26726286 0.27645018 0.29111079 0.29785466 0.30142208\n",
            " 0.2979524  0.30288814 0.30220398 0.2987343  0.30474515 0.30098226\n",
            " 0.3018619  0.30083565 0.29472707 0.31476323 0.31261301 0.30533157\n",
            " 0.31774422 0.32111616 0.34344915 0.33201388 0.3372917  0.35073059\n",
            " 0.34814055 0.34574598 0.3436935  0.34848263 0.32815325 0.3277623\n",
            " 0.33953966 0.34247178 0.33592337 0.31461663 0.30958315 0.31549626\n",
            " 0.32175145 0.31896594 0.31256414 0.30181303 0.30694424 0.31339491\n",
            " 0.31060939 0.31984557 0.31070713 0.310756   0.31085374 0.31315056\n",
            " 0.30831256 0.28715242 0.29247911 0.28803206 0.29677955 0.29184382\n",
            " 0.29120852 0.3012266  0.30582026 0.30176416 0.30318135 0.30039584\n",
            " 0.30239945 0.30459854 0.17180276 0.17131111 0.17020142 0.16853316\n",
            " 0.1664449  0.16409089 0.16160975 0.15911229]\n",
            "8 day output [[0.15667923]]\n",
            "9 day input [0.28290085 0.27879588 0.27728095 0.25138054 0.25641402 0.25827103\n",
            " 0.26134975 0.2664321  0.26521038 0.26652983 0.26481943 0.2656502\n",
            " 0.27874701 0.2754728  0.27087915 0.27566828 0.2834384  0.2850022\n",
            " 0.2857841  0.29492254 0.30938768 0.29756145 0.29262571 0.29643747\n",
            " 0.29682842 0.291404   0.27943117 0.27087915 0.26433074 0.26794703\n",
            " 0.26726286 0.27645018 0.29111079 0.29785466 0.30142208 0.2979524\n",
            " 0.30288814 0.30220398 0.2987343  0.30474515 0.30098226 0.3018619\n",
            " 0.30083565 0.29472707 0.31476323 0.31261301 0.30533157 0.31774422\n",
            " 0.32111616 0.34344915 0.33201388 0.3372917  0.35073059 0.34814055\n",
            " 0.34574598 0.3436935  0.34848263 0.32815325 0.3277623  0.33953966\n",
            " 0.34247178 0.33592337 0.31461663 0.30958315 0.31549626 0.32175145\n",
            " 0.31896594 0.31256414 0.30181303 0.30694424 0.31339491 0.31060939\n",
            " 0.31984557 0.31070713 0.310756   0.31085374 0.31315056 0.30831256\n",
            " 0.28715242 0.29247911 0.28803206 0.29677955 0.29184382 0.29120852\n",
            " 0.3012266  0.30582026 0.30176416 0.30318135 0.30039584 0.30239945\n",
            " 0.30459854 0.17180276 0.17131111 0.17020142 0.16853316 0.1664449\n",
            " 0.16409089 0.16160975 0.15911229 0.15667923]\n",
            "9 day output [[0.15436451]]\n",
            "10 day input [0.27879588 0.27728095 0.25138054 0.25641402 0.25827103 0.26134975\n",
            " 0.2664321  0.26521038 0.26652983 0.26481943 0.2656502  0.27874701\n",
            " 0.2754728  0.27087915 0.27566828 0.2834384  0.2850022  0.2857841\n",
            " 0.29492254 0.30938768 0.29756145 0.29262571 0.29643747 0.29682842\n",
            " 0.291404   0.27943117 0.27087915 0.26433074 0.26794703 0.26726286\n",
            " 0.27645018 0.29111079 0.29785466 0.30142208 0.2979524  0.30288814\n",
            " 0.30220398 0.2987343  0.30474515 0.30098226 0.3018619  0.30083565\n",
            " 0.29472707 0.31476323 0.31261301 0.30533157 0.31774422 0.32111616\n",
            " 0.34344915 0.33201388 0.3372917  0.35073059 0.34814055 0.34574598\n",
            " 0.3436935  0.34848263 0.32815325 0.3277623  0.33953966 0.34247178\n",
            " 0.33592337 0.31461663 0.30958315 0.31549626 0.32175145 0.31896594\n",
            " 0.31256414 0.30181303 0.30694424 0.31339491 0.31060939 0.31984557\n",
            " 0.31070713 0.310756   0.31085374 0.31315056 0.30831256 0.28715242\n",
            " 0.29247911 0.28803206 0.29677955 0.29184382 0.29120852 0.3012266\n",
            " 0.30582026 0.30176416 0.30318135 0.30039584 0.30239945 0.30459854\n",
            " 0.17180276 0.17131111 0.17020142 0.16853316 0.1664449  0.16409089\n",
            " 0.16160975 0.15911229 0.15667923 0.15436451]\n",
            "10 day output [[0.15220012]]\n",
            "11 day input [0.27728095 0.25138054 0.25641402 0.25827103 0.26134975 0.2664321\n",
            " 0.26521038 0.26652983 0.26481943 0.2656502  0.27874701 0.2754728\n",
            " 0.27087915 0.27566828 0.2834384  0.2850022  0.2857841  0.29492254\n",
            " 0.30938768 0.29756145 0.29262571 0.29643747 0.29682842 0.291404\n",
            " 0.27943117 0.27087915 0.26433074 0.26794703 0.26726286 0.27645018\n",
            " 0.29111079 0.29785466 0.30142208 0.2979524  0.30288814 0.30220398\n",
            " 0.2987343  0.30474515 0.30098226 0.3018619  0.30083565 0.29472707\n",
            " 0.31476323 0.31261301 0.30533157 0.31774422 0.32111616 0.34344915\n",
            " 0.33201388 0.3372917  0.35073059 0.34814055 0.34574598 0.3436935\n",
            " 0.34848263 0.32815325 0.3277623  0.33953966 0.34247178 0.33592337\n",
            " 0.31461663 0.30958315 0.31549626 0.32175145 0.31896594 0.31256414\n",
            " 0.30181303 0.30694424 0.31339491 0.31060939 0.31984557 0.31070713\n",
            " 0.310756   0.31085374 0.31315056 0.30831256 0.28715242 0.29247911\n",
            " 0.28803206 0.29677955 0.29184382 0.29120852 0.3012266  0.30582026\n",
            " 0.30176416 0.30318135 0.30039584 0.30239945 0.30459854 0.17180276\n",
            " 0.17131111 0.17020142 0.16853316 0.1664449  0.16409089 0.16160975\n",
            " 0.15911229 0.15667923 0.15436451 0.15220012]\n",
            "11 day output [[0.15020172]]\n",
            "12 day input [0.25138054 0.25641402 0.25827103 0.26134975 0.2664321  0.26521038\n",
            " 0.26652983 0.26481943 0.2656502  0.27874701 0.2754728  0.27087915\n",
            " 0.27566828 0.2834384  0.2850022  0.2857841  0.29492254 0.30938768\n",
            " 0.29756145 0.29262571 0.29643747 0.29682842 0.291404   0.27943117\n",
            " 0.27087915 0.26433074 0.26794703 0.26726286 0.27645018 0.29111079\n",
            " 0.29785466 0.30142208 0.2979524  0.30288814 0.30220398 0.2987343\n",
            " 0.30474515 0.30098226 0.3018619  0.30083565 0.29472707 0.31476323\n",
            " 0.31261301 0.30533157 0.31774422 0.32111616 0.34344915 0.33201388\n",
            " 0.3372917  0.35073059 0.34814055 0.34574598 0.3436935  0.34848263\n",
            " 0.32815325 0.3277623  0.33953966 0.34247178 0.33592337 0.31461663\n",
            " 0.30958315 0.31549626 0.32175145 0.31896594 0.31256414 0.30181303\n",
            " 0.30694424 0.31339491 0.31060939 0.31984557 0.31070713 0.310756\n",
            " 0.31085374 0.31315056 0.30831256 0.28715242 0.29247911 0.28803206\n",
            " 0.29677955 0.29184382 0.29120852 0.3012266  0.30582026 0.30176416\n",
            " 0.30318135 0.30039584 0.30239945 0.30459854 0.17180276 0.17131111\n",
            " 0.17020142 0.16853316 0.1664449  0.16409089 0.16160975 0.15911229\n",
            " 0.15667923 0.15436451 0.15220012 0.15020172]\n",
            "12 day output [[0.14837323]]\n",
            "13 day input [0.25641402 0.25827103 0.26134975 0.2664321  0.26521038 0.26652983\n",
            " 0.26481943 0.2656502  0.27874701 0.2754728  0.27087915 0.27566828\n",
            " 0.2834384  0.2850022  0.2857841  0.29492254 0.30938768 0.29756145\n",
            " 0.29262571 0.29643747 0.29682842 0.291404   0.27943117 0.27087915\n",
            " 0.26433074 0.26794703 0.26726286 0.27645018 0.29111079 0.29785466\n",
            " 0.30142208 0.2979524  0.30288814 0.30220398 0.2987343  0.30474515\n",
            " 0.30098226 0.3018619  0.30083565 0.29472707 0.31476323 0.31261301\n",
            " 0.30533157 0.31774422 0.32111616 0.34344915 0.33201388 0.3372917\n",
            " 0.35073059 0.34814055 0.34574598 0.3436935  0.34848263 0.32815325\n",
            " 0.3277623  0.33953966 0.34247178 0.33592337 0.31461663 0.30958315\n",
            " 0.31549626 0.32175145 0.31896594 0.31256414 0.30181303 0.30694424\n",
            " 0.31339491 0.31060939 0.31984557 0.31070713 0.310756   0.31085374\n",
            " 0.31315056 0.30831256 0.28715242 0.29247911 0.28803206 0.29677955\n",
            " 0.29184382 0.29120852 0.3012266  0.30582026 0.30176416 0.30318135\n",
            " 0.30039584 0.30239945 0.30459854 0.17180276 0.17131111 0.17020142\n",
            " 0.16853316 0.1664449  0.16409089 0.16160975 0.15911229 0.15667923\n",
            " 0.15436451 0.15220012 0.15020172 0.14837323]\n",
            "13 day output [[0.14671087]]\n",
            "14 day input [0.25827103 0.26134975 0.2664321  0.26521038 0.26652983 0.26481943\n",
            " 0.2656502  0.27874701 0.2754728  0.27087915 0.27566828 0.2834384\n",
            " 0.2850022  0.2857841  0.29492254 0.30938768 0.29756145 0.29262571\n",
            " 0.29643747 0.29682842 0.291404   0.27943117 0.27087915 0.26433074\n",
            " 0.26794703 0.26726286 0.27645018 0.29111079 0.29785466 0.30142208\n",
            " 0.2979524  0.30288814 0.30220398 0.2987343  0.30474515 0.30098226\n",
            " 0.3018619  0.30083565 0.29472707 0.31476323 0.31261301 0.30533157\n",
            " 0.31774422 0.32111616 0.34344915 0.33201388 0.3372917  0.35073059\n",
            " 0.34814055 0.34574598 0.3436935  0.34848263 0.32815325 0.3277623\n",
            " 0.33953966 0.34247178 0.33592337 0.31461663 0.30958315 0.31549626\n",
            " 0.32175145 0.31896594 0.31256414 0.30181303 0.30694424 0.31339491\n",
            " 0.31060939 0.31984557 0.31070713 0.310756   0.31085374 0.31315056\n",
            " 0.30831256 0.28715242 0.29247911 0.28803206 0.29677955 0.29184382\n",
            " 0.29120852 0.3012266  0.30582026 0.30176416 0.30318135 0.30039584\n",
            " 0.30239945 0.30459854 0.17180276 0.17131111 0.17020142 0.16853316\n",
            " 0.1664449  0.16409089 0.16160975 0.15911229 0.15667923 0.15436451\n",
            " 0.15220012 0.15020172 0.14837323 0.14671087]\n",
            "14 day output [[0.14520614]]\n",
            "15 day input [0.26134975 0.2664321  0.26521038 0.26652983 0.26481943 0.2656502\n",
            " 0.27874701 0.2754728  0.27087915 0.27566828 0.2834384  0.2850022\n",
            " 0.2857841  0.29492254 0.30938768 0.29756145 0.29262571 0.29643747\n",
            " 0.29682842 0.291404   0.27943117 0.27087915 0.26433074 0.26794703\n",
            " 0.26726286 0.27645018 0.29111079 0.29785466 0.30142208 0.2979524\n",
            " 0.30288814 0.30220398 0.2987343  0.30474515 0.30098226 0.3018619\n",
            " 0.30083565 0.29472707 0.31476323 0.31261301 0.30533157 0.31774422\n",
            " 0.32111616 0.34344915 0.33201388 0.3372917  0.35073059 0.34814055\n",
            " 0.34574598 0.3436935  0.34848263 0.32815325 0.3277623  0.33953966\n",
            " 0.34247178 0.33592337 0.31461663 0.30958315 0.31549626 0.32175145\n",
            " 0.31896594 0.31256414 0.30181303 0.30694424 0.31339491 0.31060939\n",
            " 0.31984557 0.31070713 0.310756   0.31085374 0.31315056 0.30831256\n",
            " 0.28715242 0.29247911 0.28803206 0.29677955 0.29184382 0.29120852\n",
            " 0.3012266  0.30582026 0.30176416 0.30318135 0.30039584 0.30239945\n",
            " 0.30459854 0.17180276 0.17131111 0.17020142 0.16853316 0.1664449\n",
            " 0.16409089 0.16160975 0.15911229 0.15667923 0.15436451 0.15220012\n",
            " 0.15020172 0.14837323 0.14671087 0.14520614]\n",
            "15 day output [[0.14384796]]\n",
            "16 day input [0.2664321  0.26521038 0.26652983 0.26481943 0.2656502  0.27874701\n",
            " 0.2754728  0.27087915 0.27566828 0.2834384  0.2850022  0.2857841\n",
            " 0.29492254 0.30938768 0.29756145 0.29262571 0.29643747 0.29682842\n",
            " 0.291404   0.27943117 0.27087915 0.26433074 0.26794703 0.26726286\n",
            " 0.27645018 0.29111079 0.29785466 0.30142208 0.2979524  0.30288814\n",
            " 0.30220398 0.2987343  0.30474515 0.30098226 0.3018619  0.30083565\n",
            " 0.29472707 0.31476323 0.31261301 0.30533157 0.31774422 0.32111616\n",
            " 0.34344915 0.33201388 0.3372917  0.35073059 0.34814055 0.34574598\n",
            " 0.3436935  0.34848263 0.32815325 0.3277623  0.33953966 0.34247178\n",
            " 0.33592337 0.31461663 0.30958315 0.31549626 0.32175145 0.31896594\n",
            " 0.31256414 0.30181303 0.30694424 0.31339491 0.31060939 0.31984557\n",
            " 0.31070713 0.310756   0.31085374 0.31315056 0.30831256 0.28715242\n",
            " 0.29247911 0.28803206 0.29677955 0.29184382 0.29120852 0.3012266\n",
            " 0.30582026 0.30176416 0.30318135 0.30039584 0.30239945 0.30459854\n",
            " 0.17180276 0.17131111 0.17020142 0.16853316 0.1664449  0.16409089\n",
            " 0.16160975 0.15911229 0.15667923 0.15436451 0.15220012 0.15020172\n",
            " 0.14837323 0.14671087 0.14520614 0.14384796]\n",
            "16 day output [[0.14262415]]\n",
            "17 day input [0.26521038 0.26652983 0.26481943 0.2656502  0.27874701 0.2754728\n",
            " 0.27087915 0.27566828 0.2834384  0.2850022  0.2857841  0.29492254\n",
            " 0.30938768 0.29756145 0.29262571 0.29643747 0.29682842 0.291404\n",
            " 0.27943117 0.27087915 0.26433074 0.26794703 0.26726286 0.27645018\n",
            " 0.29111079 0.29785466 0.30142208 0.2979524  0.30288814 0.30220398\n",
            " 0.2987343  0.30474515 0.30098226 0.3018619  0.30083565 0.29472707\n",
            " 0.31476323 0.31261301 0.30533157 0.31774422 0.32111616 0.34344915\n",
            " 0.33201388 0.3372917  0.35073059 0.34814055 0.34574598 0.3436935\n",
            " 0.34848263 0.32815325 0.3277623  0.33953966 0.34247178 0.33592337\n",
            " 0.31461663 0.30958315 0.31549626 0.32175145 0.31896594 0.31256414\n",
            " 0.30181303 0.30694424 0.31339491 0.31060939 0.31984557 0.31070713\n",
            " 0.310756   0.31085374 0.31315056 0.30831256 0.28715242 0.29247911\n",
            " 0.28803206 0.29677955 0.29184382 0.29120852 0.3012266  0.30582026\n",
            " 0.30176416 0.30318135 0.30039584 0.30239945 0.30459854 0.17180276\n",
            " 0.17131111 0.17020142 0.16853316 0.1664449  0.16409089 0.16160975\n",
            " 0.15911229 0.15667923 0.15436451 0.15220012 0.15020172 0.14837323\n",
            " 0.14671087 0.14520614 0.14384796 0.14262415]\n",
            "17 day output [[0.14152242]]\n",
            "18 day input [0.26652983 0.26481943 0.2656502  0.27874701 0.2754728  0.27087915\n",
            " 0.27566828 0.2834384  0.2850022  0.2857841  0.29492254 0.30938768\n",
            " 0.29756145 0.29262571 0.29643747 0.29682842 0.291404   0.27943117\n",
            " 0.27087915 0.26433074 0.26794703 0.26726286 0.27645018 0.29111079\n",
            " 0.29785466 0.30142208 0.2979524  0.30288814 0.30220398 0.2987343\n",
            " 0.30474515 0.30098226 0.3018619  0.30083565 0.29472707 0.31476323\n",
            " 0.31261301 0.30533157 0.31774422 0.32111616 0.34344915 0.33201388\n",
            " 0.3372917  0.35073059 0.34814055 0.34574598 0.3436935  0.34848263\n",
            " 0.32815325 0.3277623  0.33953966 0.34247178 0.33592337 0.31461663\n",
            " 0.30958315 0.31549626 0.32175145 0.31896594 0.31256414 0.30181303\n",
            " 0.30694424 0.31339491 0.31060939 0.31984557 0.31070713 0.310756\n",
            " 0.31085374 0.31315056 0.30831256 0.28715242 0.29247911 0.28803206\n",
            " 0.29677955 0.29184382 0.29120852 0.3012266  0.30582026 0.30176416\n",
            " 0.30318135 0.30039584 0.30239945 0.30459854 0.17180276 0.17131111\n",
            " 0.17020142 0.16853316 0.1664449  0.16409089 0.16160975 0.15911229\n",
            " 0.15667923 0.15436451 0.15220012 0.15020172 0.14837323 0.14671087\n",
            " 0.14520614 0.14384796 0.14262415 0.14152242]\n",
            "18 day output [[0.14053097]]\n",
            "19 day input [0.26481943 0.2656502  0.27874701 0.2754728  0.27087915 0.27566828\n",
            " 0.2834384  0.2850022  0.2857841  0.29492254 0.30938768 0.29756145\n",
            " 0.29262571 0.29643747 0.29682842 0.291404   0.27943117 0.27087915\n",
            " 0.26433074 0.26794703 0.26726286 0.27645018 0.29111079 0.29785466\n",
            " 0.30142208 0.2979524  0.30288814 0.30220398 0.2987343  0.30474515\n",
            " 0.30098226 0.3018619  0.30083565 0.29472707 0.31476323 0.31261301\n",
            " 0.30533157 0.31774422 0.32111616 0.34344915 0.33201388 0.3372917\n",
            " 0.35073059 0.34814055 0.34574598 0.3436935  0.34848263 0.32815325\n",
            " 0.3277623  0.33953966 0.34247178 0.33592337 0.31461663 0.30958315\n",
            " 0.31549626 0.32175145 0.31896594 0.31256414 0.30181303 0.30694424\n",
            " 0.31339491 0.31060939 0.31984557 0.31070713 0.310756   0.31085374\n",
            " 0.31315056 0.30831256 0.28715242 0.29247911 0.28803206 0.29677955\n",
            " 0.29184382 0.29120852 0.3012266  0.30582026 0.30176416 0.30318135\n",
            " 0.30039584 0.30239945 0.30459854 0.17180276 0.17131111 0.17020142\n",
            " 0.16853316 0.1664449  0.16409089 0.16160975 0.15911229 0.15667923\n",
            " 0.15436451 0.15220012 0.15020172 0.14837323 0.14671087 0.14520614\n",
            " 0.14384796 0.14262415 0.14152242 0.14053097]\n",
            "19 day output [[0.13963875]]\n",
            "20 day input [0.2656502  0.27874701 0.2754728  0.27087915 0.27566828 0.2834384\n",
            " 0.2850022  0.2857841  0.29492254 0.30938768 0.29756145 0.29262571\n",
            " 0.29643747 0.29682842 0.291404   0.27943117 0.27087915 0.26433074\n",
            " 0.26794703 0.26726286 0.27645018 0.29111079 0.29785466 0.30142208\n",
            " 0.2979524  0.30288814 0.30220398 0.2987343  0.30474515 0.30098226\n",
            " 0.3018619  0.30083565 0.29472707 0.31476323 0.31261301 0.30533157\n",
            " 0.31774422 0.32111616 0.34344915 0.33201388 0.3372917  0.35073059\n",
            " 0.34814055 0.34574598 0.3436935  0.34848263 0.32815325 0.3277623\n",
            " 0.33953966 0.34247178 0.33592337 0.31461663 0.30958315 0.31549626\n",
            " 0.32175145 0.31896594 0.31256414 0.30181303 0.30694424 0.31339491\n",
            " 0.31060939 0.31984557 0.31070713 0.310756   0.31085374 0.31315056\n",
            " 0.30831256 0.28715242 0.29247911 0.28803206 0.29677955 0.29184382\n",
            " 0.29120852 0.3012266  0.30582026 0.30176416 0.30318135 0.30039584\n",
            " 0.30239945 0.30459854 0.17180276 0.17131111 0.17020142 0.16853316\n",
            " 0.1664449  0.16409089 0.16160975 0.15911229 0.15667923 0.15436451\n",
            " 0.15220012 0.15020172 0.14837323 0.14671087 0.14520614 0.14384796\n",
            " 0.14262415 0.14152242 0.14053097 0.13963875]\n",
            "20 day output [[0.1388357]]\n",
            "21 day input [0.27874701 0.2754728  0.27087915 0.27566828 0.2834384  0.2850022\n",
            " 0.2857841  0.29492254 0.30938768 0.29756145 0.29262571 0.29643747\n",
            " 0.29682842 0.291404   0.27943117 0.27087915 0.26433074 0.26794703\n",
            " 0.26726286 0.27645018 0.29111079 0.29785466 0.30142208 0.2979524\n",
            " 0.30288814 0.30220398 0.2987343  0.30474515 0.30098226 0.3018619\n",
            " 0.30083565 0.29472707 0.31476323 0.31261301 0.30533157 0.31774422\n",
            " 0.32111616 0.34344915 0.33201388 0.3372917  0.35073059 0.34814055\n",
            " 0.34574598 0.3436935  0.34848263 0.32815325 0.3277623  0.33953966\n",
            " 0.34247178 0.33592337 0.31461663 0.30958315 0.31549626 0.32175145\n",
            " 0.31896594 0.31256414 0.30181303 0.30694424 0.31339491 0.31060939\n",
            " 0.31984557 0.31070713 0.310756   0.31085374 0.31315056 0.30831256\n",
            " 0.28715242 0.29247911 0.28803206 0.29677955 0.29184382 0.29120852\n",
            " 0.3012266  0.30582026 0.30176416 0.30318135 0.30039584 0.30239945\n",
            " 0.30459854 0.17180276 0.17131111 0.17020142 0.16853316 0.1664449\n",
            " 0.16409089 0.16160975 0.15911229 0.15667923 0.15436451 0.15220012\n",
            " 0.15020172 0.14837323 0.14671087 0.14520614 0.14384796 0.14262415\n",
            " 0.14152242 0.14053097 0.13963875 0.1388357 ]\n",
            "21 day output [[0.1381126]]\n",
            "22 day input [0.2754728  0.27087915 0.27566828 0.2834384  0.2850022  0.2857841\n",
            " 0.29492254 0.30938768 0.29756145 0.29262571 0.29643747 0.29682842\n",
            " 0.291404   0.27943117 0.27087915 0.26433074 0.26794703 0.26726286\n",
            " 0.27645018 0.29111079 0.29785466 0.30142208 0.2979524  0.30288814\n",
            " 0.30220398 0.2987343  0.30474515 0.30098226 0.3018619  0.30083565\n",
            " 0.29472707 0.31476323 0.31261301 0.30533157 0.31774422 0.32111616\n",
            " 0.34344915 0.33201388 0.3372917  0.35073059 0.34814055 0.34574598\n",
            " 0.3436935  0.34848263 0.32815325 0.3277623  0.33953966 0.34247178\n",
            " 0.33592337 0.31461663 0.30958315 0.31549626 0.32175145 0.31896594\n",
            " 0.31256414 0.30181303 0.30694424 0.31339491 0.31060939 0.31984557\n",
            " 0.31070713 0.310756   0.31085374 0.31315056 0.30831256 0.28715242\n",
            " 0.29247911 0.28803206 0.29677955 0.29184382 0.29120852 0.3012266\n",
            " 0.30582026 0.30176416 0.30318135 0.30039584 0.30239945 0.30459854\n",
            " 0.17180276 0.17131111 0.17020142 0.16853316 0.1664449  0.16409089\n",
            " 0.16160975 0.15911229 0.15667923 0.15436451 0.15220012 0.15020172\n",
            " 0.14837323 0.14671087 0.14520614 0.14384796 0.14262415 0.14152242\n",
            " 0.14053097 0.13963875 0.1388357  0.1381126 ]\n",
            "22 day output [[0.13746132]]\n",
            "23 day input [0.27087915 0.27566828 0.2834384  0.2850022  0.2857841  0.29492254\n",
            " 0.30938768 0.29756145 0.29262571 0.29643747 0.29682842 0.291404\n",
            " 0.27943117 0.27087915 0.26433074 0.26794703 0.26726286 0.27645018\n",
            " 0.29111079 0.29785466 0.30142208 0.2979524  0.30288814 0.30220398\n",
            " 0.2987343  0.30474515 0.30098226 0.3018619  0.30083565 0.29472707\n",
            " 0.31476323 0.31261301 0.30533157 0.31774422 0.32111616 0.34344915\n",
            " 0.33201388 0.3372917  0.35073059 0.34814055 0.34574598 0.3436935\n",
            " 0.34848263 0.32815325 0.3277623  0.33953966 0.34247178 0.33592337\n",
            " 0.31461663 0.30958315 0.31549626 0.32175145 0.31896594 0.31256414\n",
            " 0.30181303 0.30694424 0.31339491 0.31060939 0.31984557 0.31070713\n",
            " 0.310756   0.31085374 0.31315056 0.30831256 0.28715242 0.29247911\n",
            " 0.28803206 0.29677955 0.29184382 0.29120852 0.3012266  0.30582026\n",
            " 0.30176416 0.30318135 0.30039584 0.30239945 0.30459854 0.17180276\n",
            " 0.17131111 0.17020142 0.16853316 0.1664449  0.16409089 0.16160975\n",
            " 0.15911229 0.15667923 0.15436451 0.15220012 0.15020172 0.14837323\n",
            " 0.14671087 0.14520614 0.14384796 0.14262415 0.14152242 0.14053097\n",
            " 0.13963875 0.1388357  0.1381126  0.13746132]\n",
            "23 day output [[0.1368745]]\n",
            "24 day input [0.27566828 0.2834384  0.2850022  0.2857841  0.29492254 0.30938768\n",
            " 0.29756145 0.29262571 0.29643747 0.29682842 0.291404   0.27943117\n",
            " 0.27087915 0.26433074 0.26794703 0.26726286 0.27645018 0.29111079\n",
            " 0.29785466 0.30142208 0.2979524  0.30288814 0.30220398 0.2987343\n",
            " 0.30474515 0.30098226 0.3018619  0.30083565 0.29472707 0.31476323\n",
            " 0.31261301 0.30533157 0.31774422 0.32111616 0.34344915 0.33201388\n",
            " 0.3372917  0.35073059 0.34814055 0.34574598 0.3436935  0.34848263\n",
            " 0.32815325 0.3277623  0.33953966 0.34247178 0.33592337 0.31461663\n",
            " 0.30958315 0.31549626 0.32175145 0.31896594 0.31256414 0.30181303\n",
            " 0.30694424 0.31339491 0.31060939 0.31984557 0.31070713 0.310756\n",
            " 0.31085374 0.31315056 0.30831256 0.28715242 0.29247911 0.28803206\n",
            " 0.29677955 0.29184382 0.29120852 0.3012266  0.30582026 0.30176416\n",
            " 0.30318135 0.30039584 0.30239945 0.30459854 0.17180276 0.17131111\n",
            " 0.17020142 0.16853316 0.1664449  0.16409089 0.16160975 0.15911229\n",
            " 0.15667923 0.15436451 0.15220012 0.15020172 0.14837323 0.14671087\n",
            " 0.14520614 0.14384796 0.14262415 0.14152242 0.14053097 0.13963875\n",
            " 0.1388357  0.1381126  0.13746132 0.1368745 ]\n",
            "24 day output [[0.13634557]]\n",
            "25 day input [0.2834384  0.2850022  0.2857841  0.29492254 0.30938768 0.29756145\n",
            " 0.29262571 0.29643747 0.29682842 0.291404   0.27943117 0.27087915\n",
            " 0.26433074 0.26794703 0.26726286 0.27645018 0.29111079 0.29785466\n",
            " 0.30142208 0.2979524  0.30288814 0.30220398 0.2987343  0.30474515\n",
            " 0.30098226 0.3018619  0.30083565 0.29472707 0.31476323 0.31261301\n",
            " 0.30533157 0.31774422 0.32111616 0.34344915 0.33201388 0.3372917\n",
            " 0.35073059 0.34814055 0.34574598 0.3436935  0.34848263 0.32815325\n",
            " 0.3277623  0.33953966 0.34247178 0.33592337 0.31461663 0.30958315\n",
            " 0.31549626 0.32175145 0.31896594 0.31256414 0.30181303 0.30694424\n",
            " 0.31339491 0.31060939 0.31984557 0.31070713 0.310756   0.31085374\n",
            " 0.31315056 0.30831256 0.28715242 0.29247911 0.28803206 0.29677955\n",
            " 0.29184382 0.29120852 0.3012266  0.30582026 0.30176416 0.30318135\n",
            " 0.30039584 0.30239945 0.30459854 0.17180276 0.17131111 0.17020142\n",
            " 0.16853316 0.1664449  0.16409089 0.16160975 0.15911229 0.15667923\n",
            " 0.15436451 0.15220012 0.15020172 0.14837323 0.14671087 0.14520614\n",
            " 0.14384796 0.14262415 0.14152242 0.14053097 0.13963875 0.1388357\n",
            " 0.1381126  0.13746132 0.1368745  0.13634557]\n",
            "25 day output [[0.13586874]]\n",
            "26 day input [0.2850022  0.2857841  0.29492254 0.30938768 0.29756145 0.29262571\n",
            " 0.29643747 0.29682842 0.291404   0.27943117 0.27087915 0.26433074\n",
            " 0.26794703 0.26726286 0.27645018 0.29111079 0.29785466 0.30142208\n",
            " 0.2979524  0.30288814 0.30220398 0.2987343  0.30474515 0.30098226\n",
            " 0.3018619  0.30083565 0.29472707 0.31476323 0.31261301 0.30533157\n",
            " 0.31774422 0.32111616 0.34344915 0.33201388 0.3372917  0.35073059\n",
            " 0.34814055 0.34574598 0.3436935  0.34848263 0.32815325 0.3277623\n",
            " 0.33953966 0.34247178 0.33592337 0.31461663 0.30958315 0.31549626\n",
            " 0.32175145 0.31896594 0.31256414 0.30181303 0.30694424 0.31339491\n",
            " 0.31060939 0.31984557 0.31070713 0.310756   0.31085374 0.31315056\n",
            " 0.30831256 0.28715242 0.29247911 0.28803206 0.29677955 0.29184382\n",
            " 0.29120852 0.3012266  0.30582026 0.30176416 0.30318135 0.30039584\n",
            " 0.30239945 0.30459854 0.17180276 0.17131111 0.17020142 0.16853316\n",
            " 0.1664449  0.16409089 0.16160975 0.15911229 0.15667923 0.15436451\n",
            " 0.15220012 0.15020172 0.14837323 0.14671087 0.14520614 0.14384796\n",
            " 0.14262415 0.14152242 0.14053097 0.13963875 0.1388357  0.1381126\n",
            " 0.13746132 0.1368745  0.13634557 0.13586874]\n",
            "26 day output [[0.13543876]]\n",
            "27 day input [0.2857841  0.29492254 0.30938768 0.29756145 0.29262571 0.29643747\n",
            " 0.29682842 0.291404   0.27943117 0.27087915 0.26433074 0.26794703\n",
            " 0.26726286 0.27645018 0.29111079 0.29785466 0.30142208 0.2979524\n",
            " 0.30288814 0.30220398 0.2987343  0.30474515 0.30098226 0.3018619\n",
            " 0.30083565 0.29472707 0.31476323 0.31261301 0.30533157 0.31774422\n",
            " 0.32111616 0.34344915 0.33201388 0.3372917  0.35073059 0.34814055\n",
            " 0.34574598 0.3436935  0.34848263 0.32815325 0.3277623  0.33953966\n",
            " 0.34247178 0.33592337 0.31461663 0.30958315 0.31549626 0.32175145\n",
            " 0.31896594 0.31256414 0.30181303 0.30694424 0.31339491 0.31060939\n",
            " 0.31984557 0.31070713 0.310756   0.31085374 0.31315056 0.30831256\n",
            " 0.28715242 0.29247911 0.28803206 0.29677955 0.29184382 0.29120852\n",
            " 0.3012266  0.30582026 0.30176416 0.30318135 0.30039584 0.30239945\n",
            " 0.30459854 0.17180276 0.17131111 0.17020142 0.16853316 0.1664449\n",
            " 0.16409089 0.16160975 0.15911229 0.15667923 0.15436451 0.15220012\n",
            " 0.15020172 0.14837323 0.14671087 0.14520614 0.14384796 0.14262415\n",
            " 0.14152242 0.14053097 0.13963875 0.1388357  0.1381126  0.13746132\n",
            " 0.1368745  0.13634557 0.13586874 0.13543876]\n",
            "27 day output [[0.135051]]\n",
            "28 day input [0.29492254 0.30938768 0.29756145 0.29262571 0.29643747 0.29682842\n",
            " 0.291404   0.27943117 0.27087915 0.26433074 0.26794703 0.26726286\n",
            " 0.27645018 0.29111079 0.29785466 0.30142208 0.2979524  0.30288814\n",
            " 0.30220398 0.2987343  0.30474515 0.30098226 0.3018619  0.30083565\n",
            " 0.29472707 0.31476323 0.31261301 0.30533157 0.31774422 0.32111616\n",
            " 0.34344915 0.33201388 0.3372917  0.35073059 0.34814055 0.34574598\n",
            " 0.3436935  0.34848263 0.32815325 0.3277623  0.33953966 0.34247178\n",
            " 0.33592337 0.31461663 0.30958315 0.31549626 0.32175145 0.31896594\n",
            " 0.31256414 0.30181303 0.30694424 0.31339491 0.31060939 0.31984557\n",
            " 0.31070713 0.310756   0.31085374 0.31315056 0.30831256 0.28715242\n",
            " 0.29247911 0.28803206 0.29677955 0.29184382 0.29120852 0.3012266\n",
            " 0.30582026 0.30176416 0.30318135 0.30039584 0.30239945 0.30459854\n",
            " 0.17180276 0.17131111 0.17020142 0.16853316 0.1664449  0.16409089\n",
            " 0.16160975 0.15911229 0.15667923 0.15436451 0.15220012 0.15020172\n",
            " 0.14837323 0.14671087 0.14520614 0.14384796 0.14262415 0.14152242\n",
            " 0.14053097 0.13963875 0.1388357  0.1381126  0.13746132 0.1368745\n",
            " 0.13634557 0.13586874 0.13543876 0.135051  ]\n",
            "28 day output [[0.13470119]]\n",
            "29 day input [0.30938768 0.29756145 0.29262571 0.29643747 0.29682842 0.291404\n",
            " 0.27943117 0.27087915 0.26433074 0.26794703 0.26726286 0.27645018\n",
            " 0.29111079 0.29785466 0.30142208 0.2979524  0.30288814 0.30220398\n",
            " 0.2987343  0.30474515 0.30098226 0.3018619  0.30083565 0.29472707\n",
            " 0.31476323 0.31261301 0.30533157 0.31774422 0.32111616 0.34344915\n",
            " 0.33201388 0.3372917  0.35073059 0.34814055 0.34574598 0.3436935\n",
            " 0.34848263 0.32815325 0.3277623  0.33953966 0.34247178 0.33592337\n",
            " 0.31461663 0.30958315 0.31549626 0.32175145 0.31896594 0.31256414\n",
            " 0.30181303 0.30694424 0.31339491 0.31060939 0.31984557 0.31070713\n",
            " 0.310756   0.31085374 0.31315056 0.30831256 0.28715242 0.29247911\n",
            " 0.28803206 0.29677955 0.29184382 0.29120852 0.3012266  0.30582026\n",
            " 0.30176416 0.30318135 0.30039584 0.30239945 0.30459854 0.17180276\n",
            " 0.17131111 0.17020142 0.16853316 0.1664449  0.16409089 0.16160975\n",
            " 0.15911229 0.15667923 0.15436451 0.15220012 0.15020172 0.14837323\n",
            " 0.14671087 0.14520614 0.14384796 0.14262415 0.14152242 0.14053097\n",
            " 0.13963875 0.1388357  0.1381126  0.13746132 0.1368745  0.13634557\n",
            " 0.13586874 0.13543876 0.135051   0.13470119]\n",
            "29 day output [[0.1343857]]\n",
            "[[0.17180275917053223], [0.17131111025810242], [0.17020142078399658], [0.16853316128253937], [0.16644489765167236], [0.16409088671207428], [0.16160975396633148], [0.15911228954792023], [0.15667922794818878], [0.15436451137065887], [0.1522001177072525], [0.1502017229795456], [0.14837323129177094], [0.14671087265014648], [0.14520613849163055], [0.14384795725345612], [0.1426241546869278], [0.14152242243289948], [0.14053097367286682], [0.139638751745224], [0.13883569836616516], [0.1381126046180725], [0.137461319565773], [0.1368744969367981], [0.13634556531906128], [0.13586874306201935], [0.13543875515460968], [0.13505099713802338], [0.1347011923789978], [0.13438570499420166]]\n"
          ]
        }
      ]
    },
    {
      "cell_type": "code",
      "source": [
        "day_new=np.arange(1,101)\n",
        "day_pred=np.arange(101,131)"
      ],
      "metadata": {
        "id": "y_DuukIwYGoP"
      },
      "execution_count": null,
      "outputs": []
    },
    {
      "cell_type": "code",
      "source": [
        "import matplotlib.pyplot as plt"
      ],
      "metadata": {
        "id": "oewJ1SUhYPhI"
      },
      "execution_count": null,
      "outputs": []
    },
    {
      "cell_type": "code",
      "source": [
        "len(BPCL)"
      ],
      "metadata": {
        "colab": {
          "base_uri": "https://localhost:8080/"
        },
        "id": "0BONxHiVYTSP",
        "outputId": "b90249e7-f219-4c18-ba76-eca3cee3f94d"
      },
      "execution_count": null,
      "outputs": [
        {
          "output_type": "execute_result",
          "data": {
            "text/plain": [
              "5306"
            ]
          },
          "metadata": {},
          "execution_count": 57
        }
      ]
    },
    {
      "cell_type": "code",
      "source": [
        "plt.plot(day_new,scaler.inverse_transform(BPCL[5206:]))\n",
        "plt.plot(day_pred,scaler.inverse_transform(lst_output))"
      ],
      "metadata": {
        "colab": {
          "base_uri": "https://localhost:8080/",
          "height": 282
        },
        "id": "oTD9lFoQYWeC",
        "outputId": "c311a3e1-ad86-4b72-860e-6425b26e034e"
      },
      "execution_count": null,
      "outputs": [
        {
          "output_type": "execute_result",
          "data": {
            "text/plain": [
              "[<matplotlib.lines.Line2D at 0x7f2c1d90f6d0>]"
            ]
          },
          "metadata": {},
          "execution_count": 60
        },
        {
          "output_type": "display_data",
          "data": {
            "image/png": "[encoded data removed]",
            "text/plain": [
              "<Figure size 432x288 with 1 Axes>"
            ]
          },
          "metadata": {
            "needs_background": "light"
          }
        }
      ]
    },
    {
      "cell_type": "code",
      "source": [
        "BPCL_NEW=BPCL.tolist()\n",
        "BPCL_NEW.extend(lst_output)\n",
        "plt.plot(BPCL_NEW[1200:])"
      ],
      "metadata": {
        "colab": {
          "base_uri": "https://localhost:8080/",
          "height": 282
        },
        "id": "EpHw3zSzYvC4",
        "outputId": "3071a53c-e5a9-4fac-e074-08078a087eb1"
      },
      "execution_count": null,
      "outputs": [
        {
          "output_type": "execute_result",
          "data": {
            "text/plain": [
              "[<matplotlib.lines.Line2D at 0x7f2c1d8d33d0>]"
            ]
          },
          "metadata": {},
          "execution_count": 62
        },
        {
          "output_type": "display_data",
          "data": {
            "image/png": "[encoded data removed]",
            "text/plain": [
              "<Figure size 432x288 with 1 Axes>"
            ]
          },
          "metadata": {
            "needs_background": "light"
          }
        }
      ]
    },
    {
      "cell_type": "code",
      "source": [
        "BPCL_NEW=scaler.inverse_transform(BPCL_NEW).tolist()"
      ],
      "metadata": {
        "id": "hxyUaeukZbJz"
      },
      "execution_count": null,
      "outputs": []
    },
    {
      "cell_type": "code",
      "source": [
        "plt.plot(BPCL_NEW)"
      ],
      "metadata": {
        "colab": {
          "base_uri": "https://localhost:8080/",
          "height": 294
        },
        "id": "i7mkQTRJZ5Jq",
        "outputId": "9755ead7-7c37-4853-c2d6-2b0859c82e19"
      },
      "execution_count": null,
      "outputs": [
        {
          "output_type": "execute_result",
          "data": {
            "text/plain": [
              "[<matplotlib.lines.Line2D at 0x7f2c199eeb90>]"
            ]
          },
          "metadata": {},
          "execution_count": 65
        },
        {
          "output_type": "display_data",
          "data": {
            "image/png": "[encoded data removed]",
            "text/plain": [
              "<Figure size 432x288 with 1 Axes>"
            ]
          },
          "metadata": {
            "needs_background": "light"
          }
        }
      ]
    }
  ]
}